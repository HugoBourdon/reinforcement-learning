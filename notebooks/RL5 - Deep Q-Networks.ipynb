{
 "cells": [
  {
   "cell_type": "markdown",
   "metadata": {},
   "source": [
    "**Class 4: Deep Q Networks.**\n",
    "\n",
    "1. [Everything you need to know](#everything)\n",
    "1. [Reminder](#reminder)\n",
    "1. <a href=\"#sec1\">Environments</a>\n",
    "    1. <a href=\"#sec1.1\">Cartpole</a>\n",
    "    2. <a href=\"#sec1.2\">Cartpole swing-up</a>\n",
    "    3. <a href=\"#sec1.3\">Pong</a>\n",
    "2. <a href=\"#sec2\">Value Iteration as a sequence of Supervized Learning problems</a>\n",
    "3. <a href=\"#sec3\">Experience Replay</a>\n",
    "4. <a href=\"#sec4\">A deep Q-network</a>\n",
    "5. <a href=\"#sec5\">Making DQN more efficient</a>\n",
    "    1. <a href=\"#sec5.1\">Changing the optimizer\n",
    "    2. <a href=\"#sec5.2\">Several gradient steps\n",
    "    3. <a href=\"#sec5.3\">Target network</a>\n",
    "    4. <a href=\"#sec5.4\">Error clipping</a>\n",
    "6. <a href=\"#sec6\">Metrics</a>\n",
    "7. <a href=\"#sec7\">DQN on image-based tasks</a>\n",
    "8. <a href=\"#sec8\">Going further</a>\n",
    "9. [Challenge](#challenge)\n",
    "    1. [Bicycle](#bicycle)\n",
    "    2. [Structured Treatment Interruptions](#sti)\n",
    "    3. [Your turn to play](#turn)"
   ]
  },
  {
   "cell_type": "markdown",
   "metadata": {},
   "source": [
    "In the previous classes we saw that one could replace the model-based value iteration process by an approximate value iteration one. When the approximation is done by performing stochastic approximation, we obtain the $Q$ learning algorithm. We saw it was straightforward to extend this to use experience replay memories and batch stochastic gradient descent. In this class, we combine the stochastic gradient descent approach with replay memories and represent $Q$ as a neural network. This yields the Deep Q-Networks algorithm.\n",
    "\n",
    "There are few new concepts in this class compared to previous ones. Mainly, what we do is bring neural networks into the framework we have previously built. Therefore, this class is aimed at more practice. For this purpose, we start by introducing a set of [environments](#sec1) to illustrate further developments. Then we will start from Value Iteration and repeat the thought process of the previous classes, introduce [stochastic gradient descent](#sec2), [experience replay](#sec3) and reach the [DQN algorithm](#sec4). The end of the class is an [open challenge](#challenge) on several difficult benchmarks.\n",
    "\n",
    "<div class=\"alert alert-warning\">\n",
    "\n",
    "**Prerequisites:**\n",
    "- Stochastic Approximation for Approximate Value Iteration\n",
    "- Deep Learning\n",
    "<div>"
   ]
  },
  {
   "cell_type": "markdown",
   "metadata": {},
   "source": [
    "Let's start with this quote:\n",
    "\n",
    "> The idea that we learn by interacting with our environment is probably the first to occur to us when we think about the nature of learning. When an infant plays, waves its arms, or looks about, it has no explicit teacher, but it does have a direct sensorimotor connection to its environment. Exercising this connection produces a wealth of information about cause and effect, about the consequences of actions, and about what to do in order to achieve goals. Throughout our lives, such interactions are undoubtedly a major source of knowledge about our environment and ourselves. Whether we are learning to drive a car or to hold a conversation, we are acutely aware of how our environment responds to what we do, and we seek to influence what happens through our behavior. Learning from interaction is a foundational idea underlying nearly all theories of learning and intelligence. (Richard S. Sutton)"
   ]
  },
  {
   "cell_type": "markdown",
   "metadata": {},
   "source": [
    "# Everything you need to know\n",
    "\n",
    "Everything you should remember after this session.<br>\n",
    "<br>\n",
    "<div class=\"alert alert-success\">\n",
    "\n",
    "- Deep Q-Networks is an approximate value iteration algorithm that uses experience replay and stochastic gradient descent to learn $Q^*$ as a neural network. The DQN itself is the neural network.\n",
    "- DQN pseudo-code\n",
    "         state = init()\n",
    "         loop:\n",
    "            action = greedy_action(DQN) or random_action()\n",
    "            new_state, reward = step(state, action)\n",
    "            replay_memory.add(state, action, reward, new_state)\n",
    "            minibatch = replay_memory.sample(minibatch_size)\n",
    "            X_train = Y_train = []\n",
    "            for (s,a,r,s') in minibatch:\n",
    "                Q  = DQN.predict(s)\n",
    "                Q' = DQN.predict(s')\n",
    "                if non-terminal(s'): \n",
    "                    update = r + gamma * max(Q')    \n",
    "                else:  \n",
    "                    update = r\n",
    "                Q[a] = update\n",
    "                X_train.add(s)\n",
    "                Y_train.add(Q)\n",
    "            DQN.train_one_step(X_train,Y_train)\n",
    "            state = new_state\n",
    "- The pseudo-code above can be improved by introducing a second network $Q^-$ called *target network*, that is used to compute `update` in the pseudo-code above. Every $C$ steps $Q^-$ is replaced by the learned network.\n",
    "- Common improvements to DQN involve using a Huber loss and tuning the optimizer.\n",
    "</div>"
   ]
  },
  {
   "cell_type": "markdown",
   "metadata": {},
   "source": [
    "# Reminder\n",
    "\n",
    "- Value Iteration builds the sequence $Q_{n+1} = T^* Q_n$ that converges to $Q^*$\n",
    "- Given a set of samples $\\{(s,a,r,s')\\}$, one can perform stochastic gradient descent on the loss $L_n(Q) = \\|Q - T^* Q_n \\|_2$ and thus approximate the sequence of value functions from value iteration."
   ]
  },
  {
   "cell_type": "markdown",
   "metadata": {},
   "source": [
    "# <a id=\"sec1\"></a> Environments\n",
    "\n",
    "In this session, we will work with three different environments:\n",
    "- CartPole\n",
    "- A modified version of CartPole\n",
    "- Pong"
   ]
  },
  {
   "cell_type": "code",
   "execution_count": 2,
   "metadata": {},
   "outputs": [
    {
     "name": "stdout",
     "output_type": "stream",
     "text": [
      "Requirement already satisfied: gym[accept-rom-license] in /home/hugo/anaconda3/envs/rl/lib/python3.7/site-packages (0.17.3)\n",
      "\u001b[33mWARNING: gym 0.17.3 does not provide the extra 'accept-rom-license'\u001b[0m\n",
      "Requirement already satisfied: scipy in /home/hugo/.local/lib/python3.7/site-packages (from gym[accept-rom-license]) (1.7.3)\n",
      "Requirement already satisfied: cloudpickle<1.7.0,>=1.2.0 in /home/hugo/anaconda3/envs/rl/lib/python3.7/site-packages (from gym[accept-rom-license]) (1.6.0)\n",
      "Requirement already satisfied: pyglet<=1.5.0,>=1.4.0 in /home/hugo/anaconda3/envs/rl/lib/python3.7/site-packages (from gym[accept-rom-license]) (1.5.0)\n",
      "Requirement already satisfied: numpy>=1.10.4 in /home/hugo/.local/lib/python3.7/site-packages (from gym[accept-rom-license]) (1.21.4)\n",
      "Requirement already satisfied: future in /home/hugo/anaconda3/envs/rl/lib/python3.7/site-packages (from pyglet<=1.5.0,>=1.4.0->gym[accept-rom-license]) (0.18.2)\n"
     ]
    }
   ],
   "source": [
    "#from gym import logger\n",
    "!pip install gym[accept-rom-license]"
   ]
  },
  {
   "cell_type": "code",
   "execution_count": 3,
   "metadata": {},
   "outputs": [
    {
     "name": "stdout",
     "output_type": "stream",
     "text": [
      "Requirement already satisfied: gym[accept-rom-license] in /home/hugo/anaconda3/envs/rl/lib/python3.7/site-packages (0.17.3)\n",
      "\u001b[33mWARNING: gym 0.17.3 does not provide the extra 'accept-rom-license'\u001b[0m\n",
      "Requirement already satisfied: scipy in /home/hugo/.local/lib/python3.7/site-packages (from gym[accept-rom-license]) (1.7.3)\n",
      "Requirement already satisfied: pyglet<=1.5.0,>=1.4.0 in /home/hugo/anaconda3/envs/rl/lib/python3.7/site-packages (from gym[accept-rom-license]) (1.5.0)\n",
      "Requirement already satisfied: cloudpickle<1.7.0,>=1.2.0 in /home/hugo/anaconda3/envs/rl/lib/python3.7/site-packages (from gym[accept-rom-license]) (1.6.0)\n",
      "Requirement already satisfied: numpy>=1.10.4 in /home/hugo/.local/lib/python3.7/site-packages (from gym[accept-rom-license]) (1.21.4)\n",
      "Requirement already satisfied: future in /home/hugo/anaconda3/envs/rl/lib/python3.7/site-packages (from pyglet<=1.5.0,>=1.4.0->gym[accept-rom-license]) (0.18.2)\n"
     ]
    }
   ],
   "source": [
    "import numpy as np\n",
    "%matplotlib inline\n",
    "import matplotlib.pyplot as plt\n",
    "#logger.set_level(gym.logger.DISABLED)"
   ]
  },
  {
   "cell_type": "markdown",
   "metadata": {},
   "source": [
    "## <a id=sec1.1></a>CartPole"
   ]
  },
  {
   "cell_type": "code",
   "execution_count": 4,
   "metadata": {},
   "outputs": [],
   "source": [
    "import gym\n",
    "cartpole = gym.make('CartPole-v1')"
   ]
  },
  {
   "cell_type": "markdown",
   "metadata": {},
   "source": [
    "From the [OpenAI Gym website](https://gym.openai.com/envs/CartPole-v0/)\n",
    "\n",
    "> A pole is attached by an un-actuated joint to a cart, which moves along a frictionless track. The system is controlled by applying a force of +1 or -1 to the cart. The pendulum starts upright, and the goal is to prevent it from falling over. A reward of +1 is provided for every timestep that the pole remains upright. The episode ends when the pole is more than 15 degrees from vertical, or the cart moves more than 2.4 units from the center."
   ]
  },
  {
   "cell_type": "markdown",
   "metadata": {},
   "source": [
    "Beware that, as most Gym environments, CartPole has a maximum number of steps before necessarily returning `done=True`."
   ]
  },
  {
   "cell_type": "code",
   "execution_count": 5,
   "metadata": {},
   "outputs": [
    {
     "data": {
      "text/plain": [
       "500"
      ]
     },
     "execution_count": 5,
     "metadata": {},
     "output_type": "execute_result"
    }
   ],
   "source": [
    "cartpole._max_episode_steps"
   ]
  },
  {
   "cell_type": "markdown",
   "metadata": {},
   "source": [
    "The cartpole is represented by a state $s = (x, \\dot{x}, \\theta, \\dot{\\theta})$ with :\n",
    "  - $x$ the position of the cartpole along the x-axis\n",
    "  - $\\theta$ the angle of the pole"
   ]
  },
  {
   "cell_type": "code",
   "execution_count": 6,
   "metadata": {},
   "outputs": [
    {
     "name": "stdout",
     "output_type": "stream",
     "text": [
      "Discrete(2)\n",
      "Box(-3.4028234663852886e+38, 3.4028234663852886e+38, (4,), float32)\n",
      "{'render.modes': ['human', 'rgb_array'], 'video.frames_per_second': 50}\n"
     ]
    }
   ],
   "source": [
    "print(cartpole.action_space)\n",
    "print(cartpole.observation_space)\n",
    "print(cartpole.env.metadata)"
   ]
  },
  {
   "cell_type": "code",
   "execution_count": 11,
   "metadata": {},
   "outputs": [
    {
     "name": "stdout",
     "output_type": "stream",
     "text": [
      "20\n"
     ]
    }
   ],
   "source": [
    "import time\n",
    "import numpy as np\n",
    "\n",
    "x = cartpole.reset()\n",
    "#cartpole.render()\n",
    "for i in range(2000):\n",
    "    _, _, d, _ = cartpole.step(np.random.randint(2))\n",
    "    #cartpole.render()\n",
    "    if d:\n",
    "        print(i)\n",
    "        break\n",
    "    time.sleep(cartpole.tau) # not actually real-time, just for readability\n",
    "\n",
    "cartpole.close()"
   ]
  },
  {
   "cell_type": "markdown",
   "metadata": {},
   "source": [
    "## <a id=sec1.2></a>CartPole Swing-up\n",
    "\n",
    "The idea here is to keep the same environment, but instead of learning how to stabilize it around the unstable equilibrium point, we'd like to learn to swing it up. Here are the changes:\n",
    "- `reset` now puts the pole pointing down. The initial state is $(0,0,\\pi,0)$ plus a vector of four uniformly random values in [-0.05,0.05].\n",
    "- `step` now returns `done=True` when the cart leaves the $x\\in [-2.4,2.4]$ interval or when the pole swings faster than $4\\pi$ radians per second.\n",
    "- the reward is still +1 for keeping the pole within 12 degrees of the vertical, it is 0 for all other time steps and -10 for swinging too fast or exiting the screen."
   ]
  },
  {
   "cell_type": "code",
   "execution_count": 12,
   "metadata": {},
   "outputs": [],
   "source": [
    "from environments.swingup import CartPoleSwingUp\n",
    "swingup = CartPoleSwingUp()"
   ]
  },
  {
   "cell_type": "code",
   "execution_count": 13,
   "metadata": {},
   "outputs": [
    {
     "name": "stdout",
     "output_type": "stream",
     "text": [
      "67\n"
     ]
    }
   ],
   "source": [
    "import numpy as np\n",
    "\n",
    "x = swingup.reset()\n",
    "#swingup.render()\n",
    "\n",
    "for i in range(1000):\n",
    "    _, _, d, _ = swingup.step(np.random.randint(2))\n",
    "    #swingup.render()\n",
    "    if d:\n",
    "        print(i)\n",
    "        break\n",
    "\n",
    "swingup.close()"
   ]
  },
  {
   "cell_type": "markdown",
   "metadata": {},
   "source": [
    "## <a id=sec1.3></a>Pong\n",
    "\n",
    "Let's build an agent that learns to play Pong, one of the [Atari games](https://github.com/openai/gym/blob/master/gym/envs/atari/atari_env.py) in Gym (originally in the [Arcade Learning Environment](https://github.com/mgbellemare/Arcade-Learning-Environment)). You might want to try different games later on (like the popular Breakout game for instance)."
   ]
  },
  {
   "cell_type": "code",
   "execution_count": 1,
   "metadata": {},
   "outputs": [
    {
     "name": "stderr",
     "output_type": "stream",
     "text": [
      "/home/hugo/anaconda3/envs/flatland-rl/lib/python3.7/site-packages/ale_py/roms/utils.py:90: DeprecationWarning: SelectableGroups dict interface is deprecated. Use select.\n",
      "  for external in metadata.entry_points().get(self.group, []):\n",
      "A.L.E: Arcade Learning Environment (version +978d2ce)\n",
      "[Powered by Stella]\n"
     ]
    }
   ],
   "source": [
    "import gym\n",
    "pong = gym.make('Pong-v4')"
   ]
  },
  {
   "cell_type": "markdown",
   "metadata": {},
   "source": [
    "Here is the environment's description.\n",
    "> Maximize your score in the Atari 2600 game Pong. In this environment, the observation is an RGB image of the screen, which is an array of shape (210, 160, 3). Each action is repeatedly performed for a duration of k frames, where k is uniformly sampled from $\\{2, 3, 4\\}$."
   ]
  },
  {
   "cell_type": "code",
   "execution_count": 2,
   "metadata": {},
   "outputs": [
    {
     "name": "stdout",
     "output_type": "stream",
     "text": [
      "Box([[[0 0 0]\n",
      "  [0 0 0]\n",
      "  [0 0 0]\n",
      "  ...\n",
      "  [0 0 0]\n",
      "  [0 0 0]\n",
      "  [0 0 0]]\n",
      "\n",
      " [[0 0 0]\n",
      "  [0 0 0]\n",
      "  [0 0 0]\n",
      "  ...\n",
      "  [0 0 0]\n",
      "  [0 0 0]\n",
      "  [0 0 0]]\n",
      "\n",
      " [[0 0 0]\n",
      "  [0 0 0]\n",
      "  [0 0 0]\n",
      "  ...\n",
      "  [0 0 0]\n",
      "  [0 0 0]\n",
      "  [0 0 0]]\n",
      "\n",
      " ...\n",
      "\n",
      " [[0 0 0]\n",
      "  [0 0 0]\n",
      "  [0 0 0]\n",
      "  ...\n",
      "  [0 0 0]\n",
      "  [0 0 0]\n",
      "  [0 0 0]]\n",
      "\n",
      " [[0 0 0]\n",
      "  [0 0 0]\n",
      "  [0 0 0]\n",
      "  ...\n",
      "  [0 0 0]\n",
      "  [0 0 0]\n",
      "  [0 0 0]]\n",
      "\n",
      " [[0 0 0]\n",
      "  [0 0 0]\n",
      "  [0 0 0]\n",
      "  ...\n",
      "  [0 0 0]\n",
      "  [0 0 0]\n",
      "  [0 0 0]]], [[[255 255 255]\n",
      "  [255 255 255]\n",
      "  [255 255 255]\n",
      "  ...\n",
      "  [255 255 255]\n",
      "  [255 255 255]\n",
      "  [255 255 255]]\n",
      "\n",
      " [[255 255 255]\n",
      "  [255 255 255]\n",
      "  [255 255 255]\n",
      "  ...\n",
      "  [255 255 255]\n",
      "  [255 255 255]\n",
      "  [255 255 255]]\n",
      "\n",
      " [[255 255 255]\n",
      "  [255 255 255]\n",
      "  [255 255 255]\n",
      "  ...\n",
      "  [255 255 255]\n",
      "  [255 255 255]\n",
      "  [255 255 255]]\n",
      "\n",
      " ...\n",
      "\n",
      " [[255 255 255]\n",
      "  [255 255 255]\n",
      "  [255 255 255]\n",
      "  ...\n",
      "  [255 255 255]\n",
      "  [255 255 255]\n",
      "  [255 255 255]]\n",
      "\n",
      " [[255 255 255]\n",
      "  [255 255 255]\n",
      "  [255 255 255]\n",
      "  ...\n",
      "  [255 255 255]\n",
      "  [255 255 255]\n",
      "  [255 255 255]]\n",
      "\n",
      " [[255 255 255]\n",
      "  [255 255 255]\n",
      "  [255 255 255]\n",
      "  ...\n",
      "  [255 255 255]\n",
      "  [255 255 255]\n",
      "  [255 255 255]]], (210, 160, 3), uint8)\n",
      "(210, 160, 3)\n",
      "0\n",
      "255\n",
      "Discrete(6)\n"
     ]
    }
   ],
   "source": [
    "import numpy as np\n",
    "print(pong.observation_space)\n",
    "print(pong.observation_space.shape)\n",
    "print(np.min(pong.observation_space.low))\n",
    "print(np.max(pong.observation_space.high))\n",
    "print(pong.action_space)\n",
    "#help(env.observation_space)"
   ]
  },
  {
   "cell_type": "code",
   "execution_count": 3,
   "metadata": {},
   "outputs": [
    {
     "data": {
      "image/png": "[encoded data removed]",
      "text/plain": [
       "<Figure size 432x288 with 1 Axes>"
      ]
     },
     "metadata": {
      "needs_background": "light"
     },
     "output_type": "display_data"
    }
   ],
   "source": [
    "%matplotlib inline\n",
    "import matplotlib.pyplot as plt\n",
    "x = pong.reset()\n",
    "plt.imshow(x)\n",
    "plt.show()"
   ]
  },
  {
   "cell_type": "markdown",
   "metadata": {},
   "source": [
    "<div class=\"alert alert-warning\">\n",
    "\n",
    "**Exercise:** What is the number of possible states? Why is this not an MDP? What would one need to turn this back into an MDP?\n",
    "</div>"
   ]
  },
  {
   "cell_type": "markdown",
   "metadata": {},
   "source": [
    "<div class=\"alert alert-danger\">\n",
    "    <a href=\"#Pong-theory\" data-toggle=\"collapse\"><b>Answers:</b></a><br>\n",
    "<div id=\"Pong-theory\" class=\"collapse\">\n",
    "\n",
    "One frame is a $210\\times 160$ RGB image with a 256 color palette, so the set of all possible frames has size $256^{210 \\times 160 \\times 3} \\sim 10^{242579}$. That's a little too many for an efficient enumeration. Of course, most of the possible images will never occur in a Breakout game and the true state space is actually a much smaller subset of the full set of possible images. Nevertheless, unless we provide a large engineering effort in describing the state space with few variables (which would be contradictory of our goal of a \"human-level\" AI) we will need to automatically discover some structure in the state sampled data.\n",
    "\n",
    "This is not an MDP because the transition dynamics do not respect Markov's property. The probability of transitioning from $s_t$ to $s_{t+1}$ is *not* independent of previous states. The problem here is that a single frame of the game does not reflect the velocity of the ball.\n",
    "\n",
    "To recover Markov's property one could simply stack a few frames together in the state space.\n",
    "</div>\n",
    "</div>"
   ]
  },
  {
   "cell_type": "markdown",
   "metadata": {},
   "source": [
    "There are 18 buttons on the Atari controller. However not all games use all buttons. Our interface to Pong specifies 6 possible actions:\n",
    "- 0 NOOP (no operation)\n",
    "- 1 FIRE (press fire button, doesn't do anything in Pong)\n",
    "- 2 RIGHT (actually moves the paddle up in Pong)\n",
    "- 3 LEFT (actually moves the paddle left in Pong)\n",
    "- 4 UP (moves the paddle upwards)\n",
    "- 5 DOWN (moves the paddle downwards)\n",
    "\n",
    "The available actions in Pong go up to the 6th action for naming consistency (UP and DOWN), but the four first actions are not really useful.\n",
    "\n",
    "Also, for an unknown reason, the game does not start until the 20th frame (but always starts automatically, pressing FIRE does not change anything).\n",
    "\n",
    "The frame rate is 60Hz.\n",
    "\n",
    "To avoid confusion between the 6 actions allowed by Gym, let's build a wrapper around our environment, with only 2 possible actions (\"0\" for UP and \"1\" for DOWN) and a downscaled observation space. Unless you're curious and want to dig in the code, you can simply run the following cells and just use the resulting environment."
   ]
  },
  {
   "cell_type": "code",
   "execution_count": 2,
   "metadata": {},
   "outputs": [
    {
     "name": "stderr",
     "output_type": "stream",
     "text": [
      "/home/hugo/anaconda3/envs/flatland-rl/lib/python3.7/site-packages/ale_py/roms/utils.py:90: DeprecationWarning: SelectableGroups dict interface is deprecated. Use select.\n",
      "  for external in metadata.entry_points().get(self.group, []):\n",
      "A.L.E: Arcade Learning Environment (version +978d2ce)\n",
      "[Powered by Stella]\n"
     ]
    }
   ],
   "source": [
    "from environments.pongwrapper import PongWrapper"
   ]
  },
  {
   "cell_type": "code",
   "execution_count": 3,
   "metadata": {},
   "outputs": [],
   "source": [
    "pong = PongWrapper(noop_max=0,\n",
    "                   frame_skip=4,\n",
    "                   terminal_on_life_loss=True,\n",
    "                   grayscale_obs=True,\n",
    "                   scale_obs=True)"
   ]
  },
  {
   "cell_type": "code",
   "execution_count": 5,
   "metadata": {
    "scrolled": true
   },
   "outputs": [
    {
     "name": "stdout",
     "output_type": "stream",
     "text": [
      "shape: (84, 84), min = 0.34117648, max = 0.9137255, dtype = float32\n"
     ]
    },
    {
     "data": {
      "image/png": "[encoded data removed]",
      "text/plain": [
       "<Figure size 432x288 with 1 Axes>"
      ]
     },
     "metadata": {
      "needs_background": "light"
     },
     "output_type": "display_data"
    }
   ],
   "source": [
    "# Trying a random agent in Pong\n",
    "import time\n",
    "import numpy as np\n",
    "%matplotlib inline\n",
    "import matplotlib.pyplot as plt\n",
    "\n",
    "pong.reset()\n",
    "#pong.render()\n",
    "for i in range(60):\n",
    "    a = np.random.randint(2)\n",
    "    x, r, _, _ = pong.step(a)\n",
    "    #pong.render()\n",
    "    #print('\\r', \"reward\", r, end=\"\")\n",
    "    time.sleep(0.1)\n",
    "    \n",
    "pong.close()\n",
    "print(\"shape: \", x.shape, \", min = \", x.min(), \", max = \", x.max(), \", dtype = \", x.dtype, sep='')\n",
    "plt.imshow(x, cmap='gray');"
   ]
  },
  {
   "cell_type": "markdown",
   "metadata": {},
   "source": [
    "# <a id=sec2></a>Value Iteration as a sequence of Supervized Learning problems\n",
    "\n",
    "Recall the Value Iteration update: $Q_{n+1} = T^*Q_n$.\n",
    "\n",
    "<div class=\"alert alert-warning\">\n",
    "\n",
    "**Exercise:**  \n",
    "Suppose $Q_{n+1}$ is a parametric function $Q(s,a;\\theta_{n+1})$ with parameters $\\theta_{n+1}$. We want to approximate $T^*Q_n$ with $Q(s,a;\\theta_{n+1})$. Write the loss function minimized for this regression problem.\n",
    "</div>"
   ]
  },
  {
   "cell_type": "markdown",
   "metadata": {},
   "source": [
    "<div class=\"alert alert-danger\">\n",
    "    <a href=\"#ValueIteration\" data-toggle=\"collapse\"><b>Answers:</b></a><br>\n",
    "<div id=\"ValueIteration\" class=\"collapse\">\n",
    "\n",
    "Let's start over from the beginning. We want to find:\n",
    "$$\\pi^*(s) = \\arg\\max_{\\pi} \\mathbb{E}_{\\left(r_t\\right)_{t\\in \\mathbb{N}}} \\left[ \\sum_{t=0}^\\infty \\gamma^t r_t \\ \\Big| \\ s, \\pi \\right], \\ \\forall s\\in S.$$\n",
    "\n",
    "We have seen this was equivalent to finding the optimal value function $Q^*$:\n",
    "$$Q^*(s,a) = \\max_{\\pi} \\mathbb{E}_{\\left(r_t\\right)_{t\\in \\mathbb{N}}} \\left[ \\sum_{t=0}^\\infty \\gamma^t r_t \\ \\Big| \\  s,a, \\pi \\right], \\ \\forall (s,a) \\in S\\times A.$$\n",
    "\n",
    "And we have established that $Q^*$ was the only solution to Bellman's optimality equation:\n",
    "$$Q(s,a) = \\mathbb{E}_{s' \\sim p(\\cdot|s,a)} \\left[r(s,a,s') + \\gamma \\max_{a'} Q(s',a')\\right].$$\n",
    "\n",
    "By writing $T^*$ Bellman's optimality operator, we have, by definition:\n",
    "$$(T^*Q)(s,a) = \\mathbb{E}_{s' \\sim p(\\cdot|s,a)} \\left[r(s,a,s') + \\gamma \\max_{a'} Q(s',a')\\right].$$\n",
    "\n",
    "And thus, $Q^*$ is the only solution to $Q=T^*Q$.\n",
    "\n",
    "It appears $T^*$ is a contraction mapping on the $\\mathcal{F}(S\\times A,\\mathbb{R})$ space. Value Iteration exploits this property to build the sequence $Q_{n+1} = T^*Q_n$ which converges to $Q^*$.\n",
    "\n",
    "Let's now suppose that $Q_n$ is a function approximator, whose parameters are $\\theta_n$. We shall write $Q_n(s,a) = Q(s,a;\\theta_n)$. Then building $\\theta_{n+1}$ knowing $\\theta_n$ is the regression problem that minimizes the loss:\n",
    "\\begin{gather}\n",
    "L_n(\\theta) = \\left\\| y_n(s,a) - Q(s,a;\\theta) \\right\\|,\\\\\n",
    "\\textrm{with } y_n(s,a) = \\mathbb{E}_{s' \\sim p(\\cdot|s,a)} \\left[r(s,a,s') + \\gamma \\max_{a'} Q(s',a';\\theta_{n})\\right].\n",
    "\\end{gather}\n",
    "\n",
    "If this loss can be optimized and goes to zero, then we have found the true $Q_{n+1}$. If not, then we have found an approximation of it in the norm used to define $L_n$.\n",
    "\n",
    "</div>\n",
    "</div>"
   ]
  },
  {
   "cell_type": "markdown",
   "metadata": {},
   "source": [
    "<div class=\"alert alert-warning\">\n",
    "\n",
    "**Exercise:**  \n",
    "Use the L2 norm in the loss of the regression problem above, then write the gradient of the loss with respect to the regressor's parameters. Use this to introduce a stochastic gradient descent method to find $\\theta_{n+1}$.\n",
    "</div>"
   ]
  },
  {
   "cell_type": "markdown",
   "metadata": {},
   "source": [
    "<div class=\"alert alert-danger\">\n",
    "    <a href=\"#VILoss\" data-toggle=\"collapse\"><b>Answers:</b></a><br>\n",
    "<div id=\"VILoss\" class=\"collapse\">\n",
    "\n",
    "Our loss becomes:\n",
    "\\begin{gather}\n",
    "L_n(\\theta) = \\frac{1}{2} \\mathbb{E}_{(s,a) \\sim \\rho(\\cdot)}\\left[ \\big( y_n(s,a) - Q(s,a;\\theta) \\big)^2 \\right],\\\\\n",
    "\\textrm{with } y_n(s,a) = \\mathbb{E}_{s' \\sim p(\\cdot|s,a)} \\left[r(s,a,s') + \\gamma \\max_{a'} Q(s',a';\\theta_{n})\\right].\n",
    "\\end{gather}\n",
    "\n",
    "In the expression above, $\\rho$ is a distribution over the state-action space. Often, it is considered to be the behavior distribution, that is the distribution of samples under the current behavior policy, like $\\epsilon$-greedy. Note that this choice is debatable.\n",
    "\n",
    "So the gradient of this loss is:\n",
    "\\begin{gather}\n",
    "\\nabla_\\theta L_n(\\theta) = \\mathbb{E}_{(s,a) \\sim \\rho(\\cdot)}\\left[ \\big( y_n(s,a) - Q(s,a;\\theta) \\big) \\nabla_\\theta Q(s,a;\\theta) \\right]\\\\\n",
    "\\textrm{with } y_n(s,a) = \\mathbb{E}_{s' \\sim p(\\cdot|s,a)} \\left[r(s,a,s') + \\gamma \\max_{a'} Q(s',a';\\theta_{n})\\right].\n",
    "\\end{gather}\n",
    "\n",
    "And when we wrap all this together:\n",
    "$$\\nabla_\\theta L_n(\\theta) = \\mathbb{E}_{(s,a) \\sim \\rho(\\cdot)}\\left[ \\left( \\mathbb{E}_{s' \\sim p(\\cdot|s,a)} \\left[r(s,a,s') + \\gamma \\max_{a'} Q(s',a';\\theta_{n})\\right] - Q(s,a;\\theta) \\right) \\nabla_\\theta Q(s,a;\\theta) \\right]$$\n",
    "\n",
    "$$\\nabla_\\theta L_n(\\theta) = \\mathbb{E}_{\\substack{(s,a) \\sim \\rho(\\cdot)\\\\ s' \\sim p(\\cdot|s,a)}}\\left[ \\left( r(s,a,s') + \\gamma \\max_{a'} Q(s',a';\\theta_{n}) - Q(s,a;\\theta) \\right) \\nabla_\\theta Q(s,a;\\theta) \\right]$$\n",
    "\n",
    "We can build a Monte Carlo estimate of this gradient, given a mini-batch of independently and identically drawn samples $\\left\\{\\left(s_i,a_i,r_i,s'_i\\right)\\right\\}_{i\\in [1,B]}$, with $(s,a) \\sim \\rho(\\cdot)$ and $s' \\sim p(\\cdot | s,a)$:\n",
    "$$\\nabla_\\theta L_n(\\theta) \\approx d_n(\\theta) = \\sum_{i=1}^B \\left[ \\left( r_i + \\gamma \\max_{a'} Q(s_i',a';\\theta_{n}) - Q(s_i,a_i;\\theta) \\right) \\nabla_\\theta Q(s_i,a_i;\\theta) \\right].$$\n",
    "\n",
    "The stochastic gradient descent procedure builds a sequence of parameter values $\\theta_k$ such that:\n",
    "$$\\theta_{k+1} \\leftarrow \\theta_{k} - \\alpha d_n(\\theta_{k})$$\n",
    "\n",
    "By repeating such gradient steps, one progressively minimizes $L_n(\\theta)$ and finds $\\theta_{n+1}$.\n",
    "\n",
    "</div>\n",
    "</div>"
   ]
  },
  {
   "cell_type": "markdown",
   "metadata": {},
   "source": [
    "**Important remark:**  \n",
    "\n",
    "In the update above, if the mini-batch contains a single element, the 1-sample update is precisely that of Q-learning! Then, in Q-learning, the new loss $L_{n+1}$ is defined and the process is repeated. Consequently, there is a new loss function at each time step.\n",
    "\n",
    "<div class=\"alert alert-warning\">\n",
    "\n",
    "**Exercise:** can you spot the (subtle but essential) difference with Q-learning?\n",
    "</div>"
   ]
  },
  {
   "cell_type": "markdown",
   "metadata": {},
   "source": [
    "<div class=\"alert alert-danger\">\n",
    "    <a href=\"#DifferenceQL\" data-toggle=\"collapse\"><b>Answers:</b></a><br>\n",
    "<div id=\"DifferenceQL\" class=\"collapse\">\n",
    "\n",
    "Recall Q-learning. The update was indeed the same, except that at any time step the mini-batch's single element was not sampled independently from the previous minibatch! Indeed, $s'$ from the previous time step becomes $s$ for the current time step. So the successive mini-batches' elements are not drawn iid.\n",
    "\n",
    "That's a key difference that questions the foundation of Q-learning in itself.\n",
    "</div>\n",
    "</div>"
   ]
  },
  {
   "cell_type": "markdown",
   "metadata": {},
   "source": [
    "# <a id=sec3></a>Experience Replay\n",
    "\n",
    "To recover the independence assumption between samples, we can introduce the mechanism of [*Experience Replay*](http://www.incompleteideas.net/lin-92.pdf) by storing past samples into a *Replay Memory*. When samples a required for a mini-batch gradient update, the samples are collected uniformly from the replay memory, thus mimicking an (almost) independent draw according to $\\rho(\\cdot)$."
   ]
  },
  {
   "cell_type": "markdown",
   "metadata": {},
   "source": [
    "<div class=\"alert alert-warning\">\n",
    "    \n",
    "**Exercise:**  \n",
    "Design a class for the replay memory of the cart-pole example(s). Limit the size of this memory (via a FIFO mechanism) to $10^6$ samples (adapt this number to your computer's RAM). Test it by running a random policy for $2\\cdot 10^6$ time steps.\n",
    "</div>"
   ]
  },
  {
   "cell_type": "code",
   "execution_count": 2,
   "metadata": {},
   "outputs": [],
   "source": [
    "import gym\n",
    "cartpole = gym.make('CartPole-v1')\n",
    "\n",
    "import numpy as np\n",
    "import random\n",
    "\n",
    "class ReplayMemory:\n",
    "    def __init__(self,capacity):\n",
    "        self.capacity = capacity\n",
    "        self.data = []\n",
    "        self.index = 0\n",
    "    \n",
    "    def append(self, s, a, r, s_, d):\n",
    "        if len(self.data)<self.capacity:\n",
    "            self.data.append(None)\n",
    "        self.data[self.index] = (s,a,r,s_,d)\n",
    "        self.index = (self.index+1)%self.capacity\n",
    "        \n",
    "    def sample(self, batch_size):\n",
    "        return random.sample(self.data,batch_size)\n",
    "    \n",
    "    def __len__(self):\n",
    "        return(len(self.data))"
   ]
  },
  {
   "cell_type": "code",
   "execution_count": 4,
   "metadata": {},
   "outputs": [
    {
     "name": "stderr",
     "output_type": "stream",
     "text": [
      "100%|██████████████████████████████████████████████████████████████████████| 2000000/2000000 [00:47<00:00, 42278.77it/s]\n"
     ]
    },
    {
     "name": "stdout",
     "output_type": "stream",
     "text": [
      "1000000\n"
     ]
    },
    {
     "name": "stderr",
     "output_type": "stream",
     "text": [
      "100%|██████████████████████████████████████████████████████████████████████████| 10000/10000 [00:00<00:00, 14354.49it/s]"
     ]
    },
    {
     "name": "stdout",
     "output_type": "stream",
     "text": [
      "[(array([ 0.02010922, -0.02354709, -0.03467668,  0.03625622], dtype=float32), 1, 1.0, array([ 0.01963828,  0.17205453, -0.03395155, -0.2671627 ], dtype=float32), False), (array([-0.03985136, -0.04753263,  0.04485668, -0.03361673], dtype=float32), 1, 1.0, array([-0.04080201,  0.14691831,  0.04418434, -0.3118163 ], dtype=float32), False)]\n"
     ]
    },
    {
     "name": "stderr",
     "output_type": "stream",
     "text": [
      "\n"
     ]
    }
   ],
   "source": [
    "# %load solutions/RL5_exercise1.py\n",
    "### WRITE YOUR CODE HERE\n",
    "# If you get stuck, uncomment the line above to load a correction in this cell (then you can execute this code).\n",
    "\n",
    "# Replay buffer class\n",
    "import random\n",
    "\n",
    "class ReplayBuffer:\n",
    "    def __init__(self, capacity):\n",
    "        self.capacity = capacity # capacity of the buffer\n",
    "        self.data = []\n",
    "        self.index = 0 # index of the next cell to be filled\n",
    "\n",
    "    def append(self, s, a, r, s_, d):\n",
    "        if len(self.data) < self.capacity:\n",
    "            self.data.append(None)\n",
    "        self.data[self.index] = (s, a, r, s_, d)\n",
    "        self.index = (self.index + 1) % self.capacity\n",
    "\n",
    "    def sample(self, batch_size):\n",
    "        return random.sample(self.data, batch_size)\n",
    "\n",
    "    def __len__(self):\n",
    "        return len(self.data)\n",
    "\n",
    "# Testing insertion in the ReplayBuffer class\n",
    "from tqdm import trange\n",
    "replay_buffer_size = int(1e6)\n",
    "nb_samples = int(2e6)\n",
    "\n",
    "memory = ReplayBuffer(replay_buffer_size)\n",
    "state = cartpole.reset()\n",
    "for _ in trange(nb_samples):\n",
    "    action = cartpole.action_space.sample()\n",
    "    next_state, reward, done, _ = cartpole.step(action)\n",
    "    memory.append(state, action, reward, next_state, done)\n",
    "    if done:\n",
    "        state = cartpole.reset()\n",
    "    else:\n",
    "        state = next_state\n",
    "\n",
    "print(len(memory))\n",
    "\n",
    "# Testing sampling in the ReplayBuffer class\n",
    "nb_batches = int(1e4)\n",
    "batch_size = 50\n",
    "import random\n",
    "\n",
    "for _ in trange(nb_batches):\n",
    "    batch = memory.sample(batch_size)\n",
    "\n",
    "print(memory.sample(2))"
   ]
  },
  {
   "cell_type": "markdown",
   "metadata": {},
   "source": [
    "<div class=\"alert alert-warning\">\n",
    "    \n",
    "**Know your data structures!**\n",
    "\n",
    "Taking the time to think about what makes a good replay buffer may save you hours of puzzled head-banging. It is important to know what you expect from your replay buffer to choose the right data structure.\n",
    "\n",
    "Common mistake: we need a fixed sized memory, that works like a FIFO structure, so let's pick a deque. That sounds fair, deques (in Python) have a fixed maximum size and constant time insertion at the beginning and the end. BUT they also have $O(n)$ access time which means that for large replay buffers, sampling a minibatch may take forever.\n",
    "\n",
    "Here, what we really need is a fixed-size FIFO, with $O(1)$ insertion at the end and $O(1)$ access.\n",
    "\n",
    "This should motivate the choices made in the replay buffer class above.\n",
    "</div>"
   ]
  },
  {
   "cell_type": "markdown",
   "metadata": {},
   "source": [
    "# <a id=sec4></a>A deep Q-network\n",
    "\n",
    "The term Deep Q-Network was coined by the (now historical) paper **[Playing Atari with Deep Reinforcement Learning](https://arxiv.org/abs/1312.5602)** by Mnih et al. (2013) that put forward the main ideas we develop here. All those were later popularized by DeepMind's paper in Nature **[Human-level control through deep reinforcement learning](https://deepmind.com/research/publications/human-level-control-through-deep-reinforcement-learning)** by Mnih et al. (2015).\n",
    "\n",
    "Let's design a (deep) neural network that will serve as a function approximator for $Q(s,a;\\theta)$. \n",
    "\n",
    "<img src=\"img/dqlas.png\" height=\"15%\" width=\"15%\"></img>\n",
    "\n",
    "Note that since we're going to have to compute $\\max_a Q(s,a)$ it is preferable to avoid running as many passes through the network as there are actions. Therefore, instead of the network structure above, we will prefer to use the one below.\n",
    "\n",
    "<img src=\"img/dqls.png\" height=\"30%\" width=\"30%\"></img>"
   ]
  },
  {
   "cell_type": "markdown",
   "metadata": {},
   "source": [
    "<div class=\"alert alert-warning\">\n",
    "    \n",
    "**Exercise:**  \n",
    "Declare a neural network for our $Q$ function. For the CartPole task, you can use a simple network with 2 hidden layers and 16 neurons on each layer. For the SwingUp task, go up to 50 neurons per layer. For Pong and the other environments... well wait a minute, we'll get to it later.\n",
    "</div>"
   ]
  },
  {
   "cell_type": "code",
   "execution_count": 6,
   "metadata": {},
   "outputs": [],
   "source": [
    "import gym\n",
    "cartpole = gym.make('CartPole-v1')\n",
    "\n",
    "import numpy as np\n",
    "import random\n",
    "import torch\n",
    "import torch.nn as nn\n",
    "\n",
    "device = torch.device(\"cuda\" if torch.cuda.is_available() else \"cpu\")\n",
    "\n",
    "DQN = torch.nn.Sequential(nn.Linear(4,16),\n",
    "                          nn.ReLU(),\n",
    "                          nn.Linear(16,16),\n",
    "                          nn.ReLU(),\n",
    "                          nn.Linear(16,2)).to(device)\n",
    "\n",
    "DGN_swingup = torch.nn.Sequential(nn.Linear(4,50),\n",
    "                                  nn.ReLU(),\n",
    "                                  nn.Linear(50,50),\n",
    "                                  nn.ReLU(),\n",
    "                                  nn.Linear(50,2)).to(device)\n"
   ]
  },
  {
   "cell_type": "code",
   "execution_count": 5,
   "metadata": {},
   "outputs": [],
   "source": [
    "# %load solutions/RL5_exercise2.py\n",
    "### WRITE YOUR CODE HERE\n",
    "# If you get stuck, uncomment the line above to load a correction in this cell (then you can execute this code).\n",
    "\n",
    "import torch\n",
    "import torch.nn as nn\n",
    "\n",
    "device = torch.device(\"cuda\" if torch.cuda.is_available() else \"cpu\")\n",
    "\n",
    "state_dim = cartpole.observation_space.shape[0]\n",
    "n_action = cartpole.action_space.n \n",
    "nb_neurons=24\n",
    "\n",
    "DQN = torch.nn.Sequential(nn.Linear(state_dim, nb_neurons),\n",
    "                          nn.ReLU(),\n",
    "                          nn.Linear(nb_neurons, nb_neurons),\n",
    "                          nn.ReLU(), \n",
    "                          nn.Linear(nb_neurons, n_action)).to(device)"
   ]
  },
  {
   "cell_type": "markdown",
   "metadata": {},
   "source": [
    "We're almost there. Now you can implement the algorithm that:\n",
    "- takes $\\epsilon$-greedy actions with respect to $Q$\n",
    "- stores samples in the replay buffer\n",
    "- at each interaction step with the environment, draws a mini-batch, computes the target values for each $(s,a)$ and takes a gradient step.\n",
    "- repeats"
   ]
  },
  {
   "cell_type": "markdown",
   "metadata": {},
   "source": [
    "<div class=\"alert alert-warning\">\n",
    "    \n",
    "**Exercise:**  \n",
    "Write this algorithm's pseudo-code, then proceed with your implementation, using the network and replay buffer you defined in the previous cells.\n",
    "</div>\n",
    "\n",
    "You can take inspiration from the algorithm on page 5 of **[Playing Atari with Deep Reinforcement Learning](https://arxiv.org/abs/1312.5602)**."
   ]
  },
  {
   "cell_type": "markdown",
   "metadata": {},
   "source": [
    "<div class=\"alert alert-danger\">\n",
    "    <a href=\"#DQNpseudocode\" data-toggle=\"collapse\"><b>Answer:</b></a><br>\n",
    "<div id=\"DQNpseudocode\" class=\"collapse\">\n",
    "\n",
    "         state = init()\n",
    "         loop:\n",
    "            action = greedy_action(DQN) or random_action()\n",
    "            new_state, reward = step(state, action)\n",
    "            replay_memory.add(state, action, reward, new_state)\n",
    "            minibatch = replay_memory.sample(minibatch_size)\n",
    "            X_train = Y_train = []\n",
    "            for (s,a,r,s') in minibatch:\n",
    "                Q  = DQN.predict(s)\n",
    "                Q' = DQN.predict(s')\n",
    "                if non-terminal(s'): \n",
    "                    update = r + gamma * max(Q')    \n",
    "                else:  \n",
    "                    update = r\n",
    "                Q[a] = update\n",
    "                X_train.add(s)\n",
    "                Y_train.add(Q)\n",
    "            DQN.train_one_step(X_train,Y_train)\n",
    "            state = new_state\n",
    "</div>\n",
    "</div>"
   ]
  },
  {
   "cell_type": "markdown",
   "metadata": {},
   "source": [
    "Now we can proceed with the implementation. This series of exercises break it down into small steps.\n",
    "\n",
    "<div class=\"alert alert-warning\">\n",
    "    \n",
    "**Exercise:**  \n",
    "It will actually be useful to have separate torch.Tensor for the each element type in the sampled minibatch.  \n",
    "That is one Tensor for a minibatch of states, another for actions, etc.\n",
    "Let's redefine the sample function of our replay buffer class to that end.\n",
    "</div>"
   ]
  },
  {
   "cell_type": "code",
   "execution_count": 9,
   "metadata": {},
   "outputs": [],
   "source": [
    "# %load solutions/RL5_exercise3.py\n",
    "### WRITE YOUR CODE HERE\n",
    "# If you get stuck, uncomment the line above to load a correction in this cell (then you can execute this code).\n",
    "\n",
    "import random\n",
    "import torch\n",
    "\n",
    "class ReplayBuffer:\n",
    "    def __init__(self, capacity):\n",
    "        self.capacity = capacity # capacity of the buffer\n",
    "        self.data = []\n",
    "        self.index = 0 # index of the next cell to be filled\n",
    "\n",
    "    def append(self, s, a, r, s_, d):\n",
    "        if len(self.data) < self.capacity:\n",
    "            self.data.append(None)\n",
    "        self.data[self.index] = (s, a, r, s_, d)\n",
    "        self.index = (self.index + 1) % self.capacity\n",
    "\n",
    "    def sample(self, batch_size):\n",
    "        batch = random.sample(self.data, batch_size)\n",
    "        return list(map(lambda x:torch.Tensor(x).to(device), list(zip(*batch))))\n",
    "\n",
    "    def __len__(self):\n",
    "        return len(self.data)"
   ]
  },
  {
   "cell_type": "markdown",
   "metadata": {},
   "source": [
    "<div class=\"alert alert-warning\">\n",
    "    \n",
    "**Exercise:**  \n",
    "Define a utility function that computes the greedy action from a DQN and a batch of states.\n",
    "</div>"
   ]
  },
  {
   "cell_type": "code",
   "execution_count": 10,
   "metadata": {},
   "outputs": [],
   "source": [
    "# %load solutions/RL5_exercise4.py\n",
    "### WRITE YOUR CODE HERE\n",
    "# If you get stuck, uncomment the line above to load a correction in this cell (then you can execute this code).\n",
    "\n",
    "import torch\n",
    "\n",
    "def greedy_action(network, state):\n",
    "    #device = \"cuda\" if next(network.parameters()).is_cuda else \"cpu\"\n",
    "    with torch.no_grad():\n",
    "        Q = network(torch.Tensor(state).unsqueeze(0).to(device))\n",
    "        return torch.argmax(Q).item()"
   ]
  },
  {
   "cell_type": "markdown",
   "metadata": {},
   "source": [
    "<div class=\"alert alert-warning\">\n",
    "    \n",
    "**Exercise:**  \n",
    "Write a class that keeps a replay buffer as internal attribute and implements the pseudo-code you wrote earlier.  \n",
    "Here are a few tips:\n",
    "- To ensure exploration, take a constant $\\epsilon_{max}$ value during $\\tau_{delay}$ time steps, then substract $\\epsilon_{step}$ from $\\epsilon$ at every time step until you reach time $\\tau_{period}$.\n",
    "- A common optimizer (instead of plain SGD) is RMSprop.\n",
    "- Assume the interaction with the environment will be episodic. After each training episode store the episode's cumulated return for monitoring.\n",
    "\n",
    "Write your class but don't run this code just yet!\n",
    "</div>"
   ]
  },
  {
   "cell_type": "code",
   "execution_count": 20,
   "metadata": {},
   "outputs": [],
   "source": [
    "# %load solutions/RL5_exercise5.py\n",
    "### WRITE YOUR CODE HERE\n",
    "# If you get stuck, uncomment the line above to load a correction in this cell (then you can execute this code).\n",
    "\n",
    "import numpy as np\n",
    "import torch\n",
    "import torch.nn as nn\n",
    "\n",
    "class DQN_agent:\n",
    "    def __init__(self, config, model):\n",
    "        self.gamma = config['gamma']\n",
    "        self.batch_size = config['batch_size']\n",
    "        self.nb_actions = config['nb_actions']\n",
    "        self.memory = ReplayBuffer(config['buffer_size'])\n",
    "        self.epsilon_max = config['epsilon_max']\n",
    "        self.epsilon_min = config['epsilon_min']\n",
    "        self.epsilon_stop = config['epsilon_decay_period']\n",
    "        self.epsilon_delay = config['epsilon_delay_decay']\n",
    "        self.epsilon_step = (self.epsilon_max-self.epsilon_min)/self.epsilon_stop\n",
    "        self.total_steps = 0\n",
    "        self.model = model \n",
    "        self.criterion = torch.nn.MSELoss()\n",
    "        self.optimizer = torch.optim.RMSprop(self.model.parameters(), lr=config['learning_rate'])\n",
    "    \n",
    "    def gradient_step(self):\n",
    "        if len(self.memory) > self.batch_size:\n",
    "            X, A, R, Y, D = self.memory.sample(self.batch_size)\n",
    "            QYmax = self.model(Y).max(1)[0].detach()\n",
    "            update = torch.addcmul(R, self.gamma, 1-D, QYmax)\n",
    "            QXA = self.model(X).gather(1, A.to(torch.long).unsqueeze(1))\n",
    "            loss = self.criterion(QXA, update.unsqueeze(1))\n",
    "            self.optimizer.zero_grad()\n",
    "            loss.backward()\n",
    "            self.optimizer.step() \n",
    "    \n",
    "    def train(self, env, max_episode):\n",
    "        episode_return = []\n",
    "        episode = 0\n",
    "        episode_cum_reward = 0\n",
    "        state = env.reset()\n",
    "        epsilon = self.epsilon_max\n",
    "        step = 0\n",
    "\n",
    "        while episode < max_episode:\n",
    "            # update epsilon\n",
    "            if step > self.epsilon_delay:\n",
    "                epsilon = max(self.epsilon_min, epsilon-self.epsilon_step)\n",
    "\n",
    "            # select epsilon-greedy action\n",
    "            if np.random.rand() < epsilon:\n",
    "                action = np.random.randint(self.nb_actions)\n",
    "            else:\n",
    "                action = greedy_action(self.model, state)\n",
    "\n",
    "            # step\n",
    "            next_state, reward, done, _ = env.step(action)\n",
    "            self.memory.append(state, action, reward, next_state, done)\n",
    "            episode_cum_reward += reward\n",
    "\n",
    "            # train\n",
    "            self.gradient_step()\n",
    "\n",
    "            # next transition\n",
    "            step += 1\n",
    "            if done:\n",
    "                episode += 1\n",
    "                print(\"Episode \", '{:3d}'.format(episode), \n",
    "                      \", epsilon \", '{:6.2f}'.format(epsilon), \n",
    "                      \", batch size \", '{:5d}'.format(len(self.memory)), \n",
    "                      \", episode return \", '{:4.1f}'.format(episode_cum_reward),\n",
    "                      sep='')\n",
    "                state = env.reset()\n",
    "                episode_return.append(episode_cum_reward)\n",
    "                episode_cum_reward = 0\n",
    "            else:\n",
    "                state = next_state\n",
    "\n",
    "        return episode_return"
   ]
  },
  {
   "cell_type": "markdown",
   "metadata": {},
   "source": [
    "<div class=\"alert alert-warning\">\n",
    "    \n",
    "**Exercise:**  \n",
    "Train for 200 episodes on CartPole, with a learning rate of $0.001$, abatch size of $20$, $\\gamma=0.95$ and a replay buffer of maximum $1000000$ samples. Take $\\epsilon_{max}=1$, $\\epsilon_{min=0.01}$, $\\tau_{delay}=20$ and $\\tau_{period}=1000$.\n",
    "</div>"
   ]
  },
  {
   "cell_type": "code",
   "execution_count": 23,
   "metadata": {},
   "outputs": [
    {
     "name": "stdout",
     "output_type": "stream",
     "text": [
      "Episode   1, epsilon   1.00, batch size    16, episode return 16.0\n",
      "Episode   2, epsilon   0.97, batch size    52, episode return 36.0\n",
      "Episode   3, epsilon   0.93, batch size    93, episode return 41.0\n",
      "Episode   4, epsilon   0.92, batch size   106, episode return 13.0\n",
      "Episode   5, epsilon   0.82, batch size   199, episode return 93.0\n",
      "Episode   6, epsilon   0.77, batch size   255, episode return 56.0\n",
      "Episode   7, epsilon   0.72, batch size   300, episode return 45.0\n",
      "Episode   8, epsilon   0.70, batch size   323, episode return 23.0\n",
      "Episode   9, epsilon   0.68, batch size   348, episode return 25.0\n",
      "Episode  10, epsilon   0.63, batch size   397, episode return 49.0\n",
      "Episode  11, epsilon   0.57, batch size   455, episode return 58.0\n",
      "Episode  12, epsilon   0.41, batch size   617, episode return 162.0\n",
      "Episode  13, epsilon   0.39, batch size   637, episode return 20.0\n",
      "Episode  14, epsilon   0.02, batch size  1008, episode return 371.0\n",
      "Episode  15, epsilon   0.01, batch size  1210, episode return 202.0\n",
      "Episode  16, epsilon   0.01, batch size  1387, episode return 177.0\n",
      "Episode  17, epsilon   0.01, batch size  1563, episode return 176.0\n",
      "Episode  18, epsilon   0.01, batch size  1723, episode return 160.0\n",
      "Episode  19, epsilon   0.01, batch size  1914, episode return 191.0\n",
      "Episode  20, epsilon   0.01, batch size  2109, episode return 195.0\n",
      "Episode  21, epsilon   0.01, batch size  2284, episode return 175.0\n",
      "Episode  22, epsilon   0.01, batch size  2462, episode return 178.0\n",
      "Episode  23, epsilon   0.01, batch size  2649, episode return 187.0\n",
      "Episode  24, epsilon   0.01, batch size  2829, episode return 180.0\n",
      "Episode  25, epsilon   0.01, batch size  2987, episode return 158.0\n",
      "Episode  26, epsilon   0.01, batch size  3140, episode return 153.0\n",
      "Episode  27, epsilon   0.01, batch size  3334, episode return 194.0\n",
      "Episode  28, epsilon   0.01, batch size  3508, episode return 174.0\n",
      "Episode  29, epsilon   0.01, batch size  3682, episode return 174.0\n",
      "Episode  30, epsilon   0.01, batch size  3839, episode return 157.0\n",
      "Episode  31, epsilon   0.01, batch size  4009, episode return 170.0\n",
      "Episode  32, epsilon   0.01, batch size  4221, episode return 212.0\n",
      "Episode  33, epsilon   0.01, batch size  4384, episode return 163.0\n",
      "Episode  34, epsilon   0.01, batch size  4537, episode return 153.0\n",
      "Episode  35, epsilon   0.01, batch size  4746, episode return 209.0\n",
      "Episode  36, epsilon   0.01, batch size  4928, episode return 182.0\n",
      "Episode  37, epsilon   0.01, batch size  5113, episode return 185.0\n",
      "Episode  38, epsilon   0.01, batch size  5265, episode return 152.0\n",
      "Episode  39, epsilon   0.01, batch size  5452, episode return 187.0\n",
      "Episode  40, epsilon   0.01, batch size  5613, episode return 161.0\n",
      "Episode  41, epsilon   0.01, batch size  5761, episode return 148.0\n",
      "Episode  42, epsilon   0.01, batch size  5948, episode return 187.0\n",
      "Episode  43, epsilon   0.01, batch size  6129, episode return 181.0\n",
      "Episode  44, epsilon   0.01, batch size  6335, episode return 206.0\n",
      "Episode  45, epsilon   0.01, batch size  6516, episode return 181.0\n",
      "Episode  46, epsilon   0.01, batch size  6793, episode return 277.0\n",
      "Episode  47, epsilon   0.01, batch size  6952, episode return 159.0\n",
      "Episode  48, epsilon   0.01, batch size  7112, episode return 160.0\n",
      "Episode  49, epsilon   0.01, batch size  7318, episode return 206.0\n",
      "Episode  50, epsilon   0.01, batch size  7485, episode return 167.0\n",
      "Episode  51, epsilon   0.01, batch size  7626, episode return 141.0\n",
      "Episode  52, epsilon   0.01, batch size  7787, episode return 161.0\n",
      "Episode  53, epsilon   0.01, batch size  7947, episode return 160.0\n",
      "Episode  54, epsilon   0.01, batch size  8125, episode return 178.0\n",
      "Episode  55, epsilon   0.01, batch size  8290, episode return 165.0\n",
      "Episode  56, epsilon   0.01, batch size  8479, episode return 189.0\n",
      "Episode  57, epsilon   0.01, batch size  8652, episode return 173.0\n",
      "Episode  58, epsilon   0.01, batch size  8856, episode return 204.0\n",
      "Episode  59, epsilon   0.01, batch size  9001, episode return 145.0\n",
      "Episode  60, epsilon   0.01, batch size  9172, episode return 171.0\n",
      "Episode  61, epsilon   0.01, batch size  9347, episode return 175.0\n",
      "Episode  62, epsilon   0.01, batch size  9491, episode return 144.0\n",
      "Episode  63, epsilon   0.01, batch size  9658, episode return 167.0\n",
      "Episode  64, epsilon   0.01, batch size  9856, episode return 198.0\n",
      "Episode  65, epsilon   0.01, batch size 10020, episode return 164.0\n",
      "Episode  66, epsilon   0.01, batch size 10204, episode return 184.0\n",
      "Episode  67, epsilon   0.01, batch size 10364, episode return 160.0\n",
      "Episode  68, epsilon   0.01, batch size 10503, episode return 139.0\n",
      "Episode  69, epsilon   0.01, batch size 10668, episode return 165.0\n",
      "Episode  70, epsilon   0.01, batch size 10825, episode return 157.0\n",
      "Episode  71, epsilon   0.01, batch size 10993, episode return 168.0\n",
      "Episode  72, epsilon   0.01, batch size 11154, episode return 161.0\n",
      "Episode  73, epsilon   0.01, batch size 11301, episode return 147.0\n",
      "Episode  74, epsilon   0.01, batch size 11472, episode return 171.0\n",
      "Episode  75, epsilon   0.01, batch size 11608, episode return 136.0\n",
      "Episode  76, epsilon   0.01, batch size 11790, episode return 182.0\n",
      "Episode  77, epsilon   0.01, batch size 11939, episode return 149.0\n",
      "Episode  78, epsilon   0.01, batch size 12082, episode return 143.0\n",
      "Episode  79, epsilon   0.01, batch size 12231, episode return 149.0\n",
      "Episode  80, epsilon   0.01, batch size 12394, episode return 163.0\n",
      "Episode  81, epsilon   0.01, batch size 12538, episode return 144.0\n",
      "Episode  82, epsilon   0.01, batch size 12673, episode return 135.0\n",
      "Episode  83, epsilon   0.01, batch size 12804, episode return 131.0\n",
      "Episode  84, epsilon   0.01, batch size 12944, episode return 140.0\n",
      "Episode  85, epsilon   0.01, batch size 13122, episode return 178.0\n",
      "Episode  86, epsilon   0.01, batch size 13282, episode return 160.0\n",
      "Episode  87, epsilon   0.01, batch size 13443, episode return 161.0\n",
      "Episode  88, epsilon   0.01, batch size 13640, episode return 197.0\n",
      "Episode  89, epsilon   0.01, batch size 13791, episode return 151.0\n",
      "Episode  90, epsilon   0.01, batch size 13953, episode return 162.0\n",
      "Episode  91, epsilon   0.01, batch size 14137, episode return 184.0\n",
      "Episode  92, epsilon   0.01, batch size 14303, episode return 166.0\n",
      "Episode  93, epsilon   0.01, batch size 14453, episode return 150.0\n",
      "Episode  94, epsilon   0.01, batch size 14653, episode return 200.0\n",
      "Episode  95, epsilon   0.01, batch size 14803, episode return 150.0\n",
      "Episode  96, epsilon   0.01, batch size 14952, episode return 149.0\n",
      "Episode  97, epsilon   0.01, batch size 15106, episode return 154.0\n",
      "Episode  98, epsilon   0.01, batch size 15493, episode return 387.0\n",
      "Episode  99, epsilon   0.01, batch size 15662, episode return 169.0\n",
      "Episode 100, epsilon   0.01, batch size 15870, episode return 208.0\n",
      "Episode 101, epsilon   0.01, batch size 16063, episode return 193.0\n",
      "Episode 102, epsilon   0.01, batch size 16212, episode return 149.0\n",
      "Episode 103, epsilon   0.01, batch size 16383, episode return 171.0\n",
      "Episode 104, epsilon   0.01, batch size 16560, episode return 177.0\n",
      "Episode 105, epsilon   0.01, batch size 16748, episode return 188.0\n",
      "Episode 106, epsilon   0.01, batch size 16931, episode return 183.0\n",
      "Episode 107, epsilon   0.01, batch size 17103, episode return 172.0\n",
      "Episode 108, epsilon   0.01, batch size 17275, episode return 172.0\n",
      "Episode 109, epsilon   0.01, batch size 17439, episode return 164.0\n",
      "Episode 110, epsilon   0.01, batch size 17594, episode return 155.0\n",
      "Episode 111, epsilon   0.01, batch size 17810, episode return 216.0\n",
      "Episode 112, epsilon   0.01, batch size 17963, episode return 153.0\n",
      "Episode 113, epsilon   0.01, batch size 18125, episode return 162.0\n",
      "Episode 114, epsilon   0.01, batch size 18295, episode return 170.0\n",
      "Episode 115, epsilon   0.01, batch size 18448, episode return 153.0\n",
      "Episode 116, epsilon   0.01, batch size 18632, episode return 184.0\n",
      "Episode 117, epsilon   0.01, batch size 18802, episode return 170.0\n",
      "Episode 118, epsilon   0.01, batch size 18962, episode return 160.0\n",
      "Episode 119, epsilon   0.01, batch size 19148, episode return 186.0\n",
      "Episode 120, epsilon   0.01, batch size 19327, episode return 179.0\n",
      "Episode 121, epsilon   0.01, batch size 19473, episode return 146.0\n",
      "Episode 122, epsilon   0.01, batch size 19631, episode return 158.0\n",
      "Episode 123, epsilon   0.01, batch size 19798, episode return 167.0\n",
      "Episode 124, epsilon   0.01, batch size 19973, episode return 175.0\n",
      "Episode 125, epsilon   0.01, batch size 20116, episode return 143.0\n",
      "Episode 126, epsilon   0.01, batch size 20264, episode return 148.0\n",
      "Episode 127, epsilon   0.01, batch size 20428, episode return 164.0\n",
      "Episode 128, epsilon   0.01, batch size 20595, episode return 167.0\n",
      "Episode 129, epsilon   0.01, batch size 20749, episode return 154.0\n",
      "Episode 130, epsilon   0.01, batch size 20897, episode return 148.0\n",
      "Episode 131, epsilon   0.01, batch size 21077, episode return 180.0\n",
      "Episode 132, epsilon   0.01, batch size 21241, episode return 164.0\n",
      "Episode 133, epsilon   0.01, batch size 21400, episode return 159.0\n",
      "Episode 134, epsilon   0.01, batch size 21549, episode return 149.0\n",
      "Episode 135, epsilon   0.01, batch size 21714, episode return 165.0\n",
      "Episode 136, epsilon   0.01, batch size 21872, episode return 158.0\n",
      "Episode 137, epsilon   0.01, batch size 22043, episode return 171.0\n",
      "Episode 138, epsilon   0.01, batch size 22220, episode return 177.0\n",
      "Episode 139, epsilon   0.01, batch size 22394, episode return 174.0\n",
      "Episode 140, epsilon   0.01, batch size 22563, episode return 169.0\n",
      "Episode 141, epsilon   0.01, batch size 22718, episode return 155.0\n",
      "Episode 142, epsilon   0.01, batch size 22863, episode return 145.0\n",
      "Episode 143, epsilon   0.01, batch size 23080, episode return 217.0\n",
      "Episode 144, epsilon   0.01, batch size 23245, episode return 165.0\n",
      "Episode 145, epsilon   0.01, batch size 23419, episode return 174.0\n",
      "Episode 146, epsilon   0.01, batch size 23602, episode return 183.0\n",
      "Episode 147, epsilon   0.01, batch size 23777, episode return 175.0\n",
      "Episode 148, epsilon   0.01, batch size 23998, episode return 221.0\n",
      "Episode 149, epsilon   0.01, batch size 24179, episode return 181.0\n",
      "Episode 150, epsilon   0.01, batch size 24329, episode return 150.0\n",
      "Episode 151, epsilon   0.01, batch size 24502, episode return 173.0\n",
      "Episode 152, epsilon   0.01, batch size 24660, episode return 158.0\n",
      "Episode 153, epsilon   0.01, batch size 24826, episode return 166.0\n",
      "Episode 154, epsilon   0.01, batch size 24983, episode return 157.0\n",
      "Episode 155, epsilon   0.01, batch size 25129, episode return 146.0\n",
      "Episode 156, epsilon   0.01, batch size 25267, episode return 138.0\n",
      "Episode 157, epsilon   0.01, batch size 25419, episode return 152.0\n",
      "Episode 158, epsilon   0.01, batch size 25582, episode return 163.0\n",
      "Episode 159, epsilon   0.01, batch size 25764, episode return 182.0\n",
      "Episode 160, epsilon   0.01, batch size 25912, episode return 148.0\n",
      "Episode 161, epsilon   0.01, batch size 26068, episode return 156.0\n",
      "Episode 162, epsilon   0.01, batch size 26227, episode return 159.0\n",
      "Episode 163, epsilon   0.01, batch size 26398, episode return 171.0\n",
      "Episode 164, epsilon   0.01, batch size 26563, episode return 165.0\n",
      "Episode 165, epsilon   0.01, batch size 26726, episode return 163.0\n",
      "Episode 166, epsilon   0.01, batch size 26886, episode return 160.0\n",
      "Episode 167, epsilon   0.01, batch size 27058, episode return 172.0\n",
      "Episode 168, epsilon   0.01, batch size 27221, episode return 163.0\n",
      "Episode 169, epsilon   0.01, batch size 27365, episode return 144.0\n",
      "Episode 170, epsilon   0.01, batch size 27519, episode return 154.0\n",
      "Episode 171, epsilon   0.01, batch size 27673, episode return 154.0\n",
      "Episode 172, epsilon   0.01, batch size 27840, episode return 167.0\n",
      "Episode 173, epsilon   0.01, batch size 28002, episode return 162.0\n",
      "Episode 174, epsilon   0.01, batch size 28183, episode return 181.0\n",
      "Episode 175, epsilon   0.01, batch size 28345, episode return 162.0\n",
      "Episode 176, epsilon   0.01, batch size 28493, episode return 148.0\n",
      "Episode 177, epsilon   0.01, batch size 28653, episode return 160.0\n",
      "Episode 178, epsilon   0.01, batch size 28804, episode return 151.0\n",
      "Episode 179, epsilon   0.01, batch size 28962, episode return 158.0\n",
      "Episode 180, epsilon   0.01, batch size 29128, episode return 166.0\n",
      "Episode 181, epsilon   0.01, batch size 29304, episode return 176.0\n",
      "Episode 182, epsilon   0.01, batch size 29484, episode return 180.0\n",
      "Episode 183, epsilon   0.01, batch size 29639, episode return 155.0\n",
      "Episode 184, epsilon   0.01, batch size 29835, episode return 196.0\n",
      "Episode 185, epsilon   0.01, batch size 29979, episode return 144.0\n",
      "Episode 186, epsilon   0.01, batch size 30129, episode return 150.0\n",
      "Episode 187, epsilon   0.01, batch size 30283, episode return 154.0\n",
      "Episode 188, epsilon   0.01, batch size 30444, episode return 161.0\n",
      "Episode 189, epsilon   0.01, batch size 30606, episode return 162.0\n",
      "Episode 190, epsilon   0.01, batch size 30798, episode return 192.0\n",
      "Episode 191, epsilon   0.01, batch size 31017, episode return 219.0\n",
      "Episode 192, epsilon   0.01, batch size 31181, episode return 164.0\n",
      "Episode 193, epsilon   0.01, batch size 31334, episode return 153.0\n",
      "Episode 194, epsilon   0.01, batch size 31499, episode return 165.0\n",
      "Episode 195, epsilon   0.01, batch size 31649, episode return 150.0\n",
      "Episode 196, epsilon   0.01, batch size 31792, episode return 143.0\n",
      "Episode 197, epsilon   0.01, batch size 32004, episode return 212.0\n",
      "Episode 198, epsilon   0.01, batch size 32158, episode return 154.0\n",
      "Episode 199, epsilon   0.01, batch size 32336, episode return 178.0\n",
      "Episode 200, epsilon   0.01, batch size 32484, episode return 148.0\n",
      "160\n"
     ]
    },
    {
     "data": {
      "image/png": "[encoded data removed]",
      "text/plain": [
       "<Figure size 432x288 with 1 Axes>"
      ]
     },
     "metadata": {
      "needs_background": "light"
     },
     "output_type": "display_data"
    }
   ],
   "source": [
    "# %load solutions/RL5_exercise6.py\n",
    "### WRITE YOUR CODE HERE\n",
    "# If you get stuck, uncomment the line above to load a correction in this cell (then you can execute this code).\n",
    "\n",
    "config = {'observation_space': cartpole.observation_space.shape[0],\n",
    "          'nb_actions': cartpole.action_space.n,\n",
    "          'learning_rate': 0.001,\n",
    "          'gamma': 0.95,\n",
    "          'buffer_size': 1000000,\n",
    "          'epsilon_min': 0.01,\n",
    "          'epsilon_max': 1.,\n",
    "          'epsilon_decay_period': 1000,\n",
    "          'epsilon_delay_decay': 20,\n",
    "          'batch_size': 20}\n",
    "\n",
    "agent = DQN_agent(config, DQN)\n",
    "scores = agent.train(cartpole, 200)\n",
    "plt.plot(scores)\n",
    "\n",
    "x = cartpole.reset()\n",
    "#cartpole.render()\n",
    "for i in range(1000):\n",
    "    a = greedy_action(DQN, x)\n",
    "    y, _, d, _ = cartpole.step(a)\n",
    "    #cartpole.render()\n",
    "    x=y\n",
    "    if d:\n",
    "        print(i)\n",
    "        break\n",
    "\n",
    "cartpole.close()"
   ]
  },
  {
   "cell_type": "markdown",
   "metadata": {},
   "source": [
    "# <a id=sec5></a>Making DQN more efficient"
   ]
  },
  {
   "cell_type": "markdown",
   "metadata": {},
   "source": [
    "## <a id=sec5.1></a>Changing the optimizer\n",
    "\n",
    "The question of which optimizer to choose is quite open in RL. Most common choices are RMSprop or Adam (with, sometimes, carefully chosen hyperparameters). For the example of CartPole, it seems Adam with default parameters works better, but that's not a general rule."
   ]
  },
  {
   "cell_type": "markdown",
   "metadata": {},
   "source": [
    "## <a id=sec5.2></a>Several gradient steps\n",
    "\n",
    "Recall that within an iteration of Value Iteration, one aims at minimizing the $L_n(\\theta)$ (before moving on to the next iteration). Why take a single gradient step on this loss when a new sample is collected? Taking several gradient steps can greatly accelerate the convergence in terms of number of collected samples. That's what is commonly called *sample efficiency*."
   ]
  },
  {
   "cell_type": "markdown",
   "metadata": {},
   "source": [
    "## <a id=sec5.3></a>Target network\n",
    "\n",
    "It appears the code above will (probably) slowly converge to $Q^*$ but this convergence might be unstable and noisy. This can be greatly improved by taking several gradient steps on a given loss function $L_n$ instead of changing the loss function after each sample. This idea is similar to the one above. And is the same as that of delayed updates that we introduced in the class on temporal difference learning. \n",
    "\n",
    "In practice, this is achieved by the introduction of a *target network* whose parameters are noted $\\theta^-$. This idea for DQN was introduced in the **[Human-level control through deep reinforcement learning](https://deepmind.com/research/publications/human-level-control-through-deep-reinforcement-learning)** paper. At any time step, the loss becomes:\n",
    "$$L(\\theta) = \\mathbb{E}_{s,a,r,s'} \\left[ \\left( r + \\gamma \\max_{a'} Q(s',a',\\theta^-) - Q(s,a;\\theta) \\right) ^2 \\right],$$\n",
    "and the target network parameters $\\theta^-$ are only updated with the Q-network parameters $\\theta_n$ every $C$ steps and are held fixed between individual updates.\n",
    "\n",
    "This process of accumulating several gradient steps into $\\theta_n$ before updating $\\theta^-$ draws our algorithm closer to a Value Iteration scheme (or a Fitted Q-Iteration scheme for that matter).\n",
    "\n",
    "Note that more recent approaches smooth out this accumulation process by defining soft updates of the form:\n",
    "$$\\theta^- \\leftarrow \\beta \\theta^- + (1-\\beta) \\theta_n.$$"
   ]
  },
  {
   "cell_type": "markdown",
   "metadata": {},
   "source": [
    "## <a id=sec5.4></a>Error clipping\n",
    "\n",
    "Another common pratice to stabilize learning is to clip the value of the loss' gradient between $-1$ and $1$. This is not such an uncommon trick, it actually amounts to using an L2 loss for values of the loss between $-1$ and $1$ and an L1 loss outside of this domain. This is also know as the [Huber Loss](https://en.wikipedia.org/wiki/Huber_loss) or the [smooth L1 loss](https://pytorch.org/docs/stable/nn.html#smoothl1loss)."
   ]
  },
  {
   "cell_type": "markdown",
   "metadata": {},
   "source": [
    "<div class=\"alert alert-warning\">\n",
    "    \n",
    "**Exercise:**  \n",
    "Modify you code from the previous exercises to include a target network (with $C$ in the order of $100$), a fixed number of gradient steps per acquired sample, and the clipping of the error term. You can also use Adam for improved efficiency.\n",
    "</div>"
   ]
  },
  {
   "cell_type": "code",
   "execution_count": 24,
   "metadata": {},
   "outputs": [],
   "source": [
    "# %load solutions/RL5_exercise7.py\n",
    "### WRITE YOUR CODE HERE\n",
    "# If you get stuck, uncomment the line above to load a correction in this cell (then you can execute this code).\n",
    "\n",
    "import numpy as np\n",
    "import torch\n",
    "import torch.nn as nn\n",
    "from copy import deepcopy\n",
    "\n",
    "class DQN_agent:\n",
    "    def __init__(self, config, model):\n",
    "        self.gamma = config['gamma']\n",
    "        self.batch_size = config['batch_size']\n",
    "        self.nb_actions = config['nb_actions']\n",
    "        self.memory = ReplayBuffer(config['buffer_size'])\n",
    "        self.epsilon_max = config['epsilon_max']\n",
    "        self.epsilon_min = config['epsilon_min']\n",
    "        self.epsilon_stop = config['epsilon_decay_period']\n",
    "        self.epsilon_delay = config['epsilon_delay_decay']\n",
    "        self.epsilon_step = (self.epsilon_max-self.epsilon_min)/self.epsilon_stop\n",
    "        self.nb_gradient_steps = config['gradient_steps'] # NEW NEW NEW\n",
    "        self.total_steps = 0\n",
    "        self.model = model \n",
    "        self.criterion = torch.nn.SmoothL1Loss() # NEW NEW NEW\n",
    "        self.optimizer = torch.optim.Adam(self.model.parameters(), lr=config['learning_rate']) # NEW NEW NEW\n",
    "        self.target_model = deepcopy(self.model).to(device) # NEW NEW NEW\n",
    "        self.update_target_freq = config['update_target_freq'] # NEW NEW NEW\n",
    "    \n",
    "    def gradient_step(self):\n",
    "        if len(self.memory) > self.batch_size:\n",
    "            X, A, R, Y, D = self.memory.sample(self.batch_size)\n",
    "            QYmax = self.target_model(Y).max(1)[0].detach()\n",
    "            update = torch.addcmul(R, self.gamma, 1-D, QYmax)\n",
    "            QXA = self.model(X).gather(1, A.to(torch.long).unsqueeze(1))\n",
    "            loss = self.criterion(QXA, update.unsqueeze(1))\n",
    "            self.optimizer.zero_grad()\n",
    "            loss.backward()\n",
    "            self.optimizer.step() \n",
    "    \n",
    "    def train(self, env, max_episode):\n",
    "        episode_return = []\n",
    "        episode = 0\n",
    "        episode_cum_reward = 0\n",
    "        state = env.reset()\n",
    "        epsilon = self.epsilon_max\n",
    "        step = 0\n",
    "        while episode < max_episode:\n",
    "            # update epsilon\n",
    "            if step > self.epsilon_delay:\n",
    "                epsilon = max(self.epsilon_min, epsilon-self.epsilon_step)\n",
    "\n",
    "            # select epsilon-greedy action\n",
    "            if np.random.rand() < epsilon:\n",
    "                action = np.random.randint(self.nb_actions)\n",
    "            else:\n",
    "                action = greedy_action(self.model, state)\n",
    "\n",
    "            # step\n",
    "            next_state, reward, done, _ = env.step(action)\n",
    "            self.memory.append(state, action, reward, next_state, done)\n",
    "            episode_cum_reward += reward\n",
    "\n",
    "            # train\n",
    "            for _ in range(self.nb_gradient_steps): # NEW NEW NEW\n",
    "                self.gradient_step()\n",
    "\n",
    "            # update target network if needed\n",
    "            if step % self.update_target_freq == 0: # NEW NEW NEW\n",
    "                self.target_model.load_state_dict(self.model.state_dict())   \n",
    "            \n",
    "            # next transition\n",
    "            step += 1\n",
    "            if done:\n",
    "                episode += 1\n",
    "                print(\"Episode \", '{:3d}'.format(episode), \n",
    "                      \", epsilon \", '{:6.2f}'.format(epsilon), \n",
    "                      \", batch size \", '{:5d}'.format(len(self.memory)), \n",
    "                      \", episode return \", '{:4.1f}'.format(episode_cum_reward),\n",
    "                      sep='')\n",
    "                state = env.reset()\n",
    "                episode_return.append(episode_cum_reward)\n",
    "                episode_cum_reward = 0\n",
    "            else:\n",
    "                state = next_state\n",
    "\n",
    "        return episode_return"
   ]
  },
  {
   "cell_type": "markdown",
   "metadata": {},
   "source": [
    "<div class=\"alert alert-warning\">\n",
    "    \n",
    "**Exercise:**  \n",
    "Run your code to learn an efficient policy for CartPole. Don't forget to reset the network before you start learning.\n",
    "</div>"
   ]
  },
  {
   "cell_type": "code",
   "execution_count": 27,
   "metadata": {},
   "outputs": [
    {
     "name": "stdout",
     "output_type": "stream",
     "text": [
      "Episode   1, epsilon   1.00, batch size    25, episode return 25.0\n",
      "Episode   2, epsilon   0.97, batch size    53, episode return 28.0\n",
      "Episode   3, epsilon   0.95, batch size    69, episode return 16.0\n",
      "Episode   4, epsilon   0.92, batch size   100, episode return 31.0\n",
      "Episode   5, epsilon   0.90, batch size   117, episode return 17.0\n",
      "Episode   6, epsilon   0.89, batch size   131, episode return 14.0\n",
      "Episode   7, epsilon   0.88, batch size   146, episode return 15.0\n",
      "Episode   8, epsilon   0.86, batch size   166, episode return 20.0\n",
      "Episode   9, epsilon   0.84, batch size   180, episode return 14.0\n",
      "Episode  10, epsilon   0.81, batch size   212, episode return 32.0\n",
      "Episode  11, epsilon   0.79, batch size   235, episode return 23.0\n",
      "Episode  12, epsilon   0.78, batch size   243, episode return  8.0\n",
      "Episode  13, epsilon   0.75, batch size   278, episode return 35.0\n",
      "Episode  14, epsilon   0.73, batch size   292, episode return 14.0\n",
      "Episode  15, epsilon   0.72, batch size   303, episode return 11.0\n",
      "Episode  16, epsilon   0.70, batch size   319, episode return 16.0\n",
      "Episode  17, epsilon   0.69, batch size   331, episode return 12.0\n",
      "Episode  18, epsilon   0.68, batch size   344, episode return 13.0\n",
      "Episode  19, epsilon   0.67, batch size   355, episode return 11.0\n",
      "Episode  20, epsilon   0.66, batch size   365, episode return 10.0\n",
      "Episode  21, epsilon   0.65, batch size   379, episode return 14.0\n",
      "Episode  22, epsilon   0.64, batch size   388, episode return  9.0\n",
      "Episode  23, epsilon   0.62, batch size   404, episode return 16.0\n",
      "Episode  24, epsilon   0.60, batch size   422, episode return 18.0\n",
      "Episode  25, epsilon   0.60, batch size   430, episode return  8.0\n",
      "Episode  26, epsilon   0.58, batch size   447, episode return 17.0\n",
      "Episode  27, epsilon   0.56, batch size   461, episode return 14.0\n",
      "Episode  28, epsilon   0.55, batch size   471, episode return 10.0\n",
      "Episode  29, epsilon   0.54, batch size   482, episode return 11.0\n",
      "Episode  30, epsilon   0.53, batch size   493, episode return 11.0\n",
      "Episode  31, epsilon   0.52, batch size   504, episode return 11.0\n",
      "Episode  32, epsilon   0.51, batch size   516, episode return 12.0\n",
      "Episode  33, epsilon   0.50, batch size   527, episode return 11.0\n",
      "Episode  34, epsilon   0.48, batch size   545, episode return 18.0\n",
      "Episode  35, epsilon   0.47, batch size   560, episode return 15.0\n",
      "Episode  36, epsilon   0.44, batch size   584, episode return 24.0\n",
      "Episode  37, epsilon   0.41, batch size   614, episode return 30.0\n",
      "Episode  38, epsilon   0.34, batch size   683, episode return 69.0\n",
      "Episode  39, epsilon   0.28, batch size   753, episode return 70.0\n",
      "Episode  40, epsilon   0.24, batch size   789, episode return 36.0\n",
      "Episode  41, epsilon   0.21, batch size   815, episode return 26.0\n",
      "Episode  42, epsilon   0.18, batch size   848, episode return 33.0\n",
      "Episode  43, epsilon   0.13, batch size   904, episode return 56.0\n",
      "Episode  44, epsilon   0.10, batch size   926, episode return 22.0\n",
      "Episode  45, epsilon   0.08, batch size   952, episode return 26.0\n",
      "Episode  46, epsilon   0.03, batch size   997, episode return 45.0\n",
      "Episode  47, epsilon   0.01, batch size  1016, episode return 19.0\n",
      "Episode  48, epsilon   0.01, batch size  1037, episode return 21.0\n",
      "Episode  49, epsilon   0.01, batch size  1081, episode return 44.0\n",
      "Episode  50, epsilon   0.01, batch size  1153, episode return 72.0\n",
      "49\n"
     ]
    },
    {
     "data": {
      "image/png": "[encoded data removed]",
      "text/plain": [
       "<Figure size 432x288 with 1 Axes>"
      ]
     },
     "metadata": {
      "needs_background": "light"
     },
     "output_type": "display_data"
    }
   ],
   "source": [
    "# %load solutions/RL5_exercise8.py\n",
    "### WRITE YOUR CODE HERE\n",
    "# If you get stuck, uncomment the line above to load a correction in this cell (then you can execute this code).\n",
    "\n",
    "# Let's reset the Q function\n",
    "\n",
    "import torch\n",
    "import torch.nn as nn\n",
    "import gym\n",
    "\n",
    "cartpole = gym.make('CartPole-v1')\n",
    "\n",
    "device = torch.device(\"cuda\" if torch.cuda.is_available() else \"cpu\")\n",
    "\n",
    "state_dim = cartpole.observation_space.shape[0]\n",
    "n_action = cartpole.action_space.n \n",
    "nb_neurons=24\n",
    "\n",
    "# reset the Q function\n",
    "DQN = torch.nn.Sequential(nn.Linear(state_dim, nb_neurons),\n",
    "                          nn.ReLU(),\n",
    "                          nn.Linear(nb_neurons, nb_neurons),\n",
    "                          nn.ReLU(), \n",
    "                          nn.Linear(nb_neurons, n_action)).to(device)\n",
    "\n",
    "# config\n",
    "config = {'observation_space': cartpole.observation_space.shape[0],\n",
    "          'nb_actions': cartpole.action_space.n,\n",
    "          'learning_rate': 0.001,\n",
    "          'gamma': 0.95,\n",
    "          'buffer_size': 1000000,\n",
    "          'epsilon_min': 0.01,\n",
    "          'epsilon_max': 1.,\n",
    "          'epsilon_decay_period': 1000,\n",
    "          'epsilon_delay_decay': 20,\n",
    "          'batch_size': 20,\n",
    "          'gradient_steps': 10,\n",
    "          'update_target_freq': 100}\n",
    "\n",
    "# dqn agent\n",
    "agent = DQN_agent(config, DQN)\n",
    "scores = agent.train(cartpole, 50)\n",
    "\n",
    "plt.plot(scores);\n",
    "torch.save(DQN.state_dict(), \"cart_pole_dqn.pth\")\n",
    "\n",
    "DQN.load_state_dict(torch.load(\"cart_pole_dqn.pth\"))\n",
    "x = cartpole.reset()\n",
    "#cartpole.render()\n",
    "for i in range(1000):\n",
    "    a = greedy_action(DQN, x)\n",
    "    y, _, d, _ = cartpole.step(a)\n",
    "    #cartpole.render()\n",
    "    x=y\n",
    "    if d:\n",
    "        print(i)\n",
    "        break\n",
    "\n",
    "cartpole.close()"
   ]
  },
  {
   "cell_type": "markdown",
   "metadata": {},
   "source": [
    "# <a id=\"sec6\"></a> Metrics\n",
    "\n",
    "Let's take a step back to reflect about what we really measure in the experiment above. We have counted the number of steps per training episode. But during these episodes, the applied policy was $\\epsilon$-greedy, not greedy. So this is not an objective measure of performance.\n",
    "\n",
    "On the other hand, what is really being optimized here is the average sum of discounted rewards.\n",
    "\n",
    "<div class=\"alert alert-warning\">\n",
    "    \n",
    "**Exercise:**  \n",
    "Enhance your previous code with the monitoring, after each episode, of:\n",
    "- the number of steps of the training episode\n",
    "- a Monte Carlo estimate of the total sum of rewards from the (distribution of) starting state,\n",
    "- a Monte Carlo estimate of the sum of discounted rewards from the (distribution of) starting state,\n",
    "- an average, over possible starting states $s_0$ of the current $\\max_a Q(s_0,a)$.\n",
    "</div>"
   ]
  },
  {
   "cell_type": "code",
   "execution_count": 36,
   "metadata": {},
   "outputs": [],
   "source": [
    "# %load solutions/RL5_exercise9.py\n",
    "### WRITE YOUR CODE HERE\n",
    "# If you get stuck, uncomment the line above to load a correction in this cell (then you can execute this code).\n",
    "\n",
    "import numpy as np\n",
    "import torch\n",
    "import torch.nn as nn\n",
    "from copy import deepcopy\n",
    "\n",
    "class DQN_agent:\n",
    "    def __init__(self, config, model):\n",
    "        self.gamma = config['gamma']\n",
    "        self.batch_size = config['batch_size']\n",
    "        self.nb_actions = config['nb_actions']\n",
    "        self.memory = ReplayBuffer(config['buffer_size'])\n",
    "        self.epsilon_max = config['epsilon_max']\n",
    "        self.epsilon_min = config['epsilon_min']\n",
    "        self.epsilon_stop = config['epsilon_decay_period']\n",
    "        self.epsilon_delay = config['epsilon_delay_decay']\n",
    "        self.epsilon_step = (self.epsilon_max-self.epsilon_min)/self.epsilon_stop\n",
    "        self.nb_gradient_steps = config['gradient_steps']\n",
    "        self.nb_trials = config['nb_trials'] # NEW NEW NEW\n",
    "        self.total_steps = 0\n",
    "        self.model = model \n",
    "        self.criterion = torch.nn.SmoothL1Loss()\n",
    "        self.optimizer = torch.optim.Adam(self.model.parameters(), lr=config['learning_rate'])\n",
    "        self.target_model = deepcopy(self.model).to(device)\n",
    "        self.update_target_freq = config['update_target_freq']\n",
    "\n",
    "    def MC_eval(self, env, nb_trials):  # NEW NEW NEW\n",
    "        MC_total_reward = []\n",
    "        MC_discounted_reward = []\n",
    "        for _ in range(nb_trials):\n",
    "            x = cartpole.reset()\n",
    "            done = False\n",
    "            total_reward = 0\n",
    "            discounted_reward = 0\n",
    "            step = 0\n",
    "            while not done:\n",
    "                a = greedy_action(self.model, x)\n",
    "                y,r,done,_ = cartpole.step(a)\n",
    "                x = y\n",
    "                total_reward += r\n",
    "                discounted_reward += self.gamma**step * r\n",
    "                step += 1\n",
    "            MC_total_reward.append(total_reward)\n",
    "            MC_discounted_reward.append(discounted_reward)\n",
    "        return np.mean(MC_discounted_reward), np.mean(MC_total_reward)\n",
    "    \n",
    "    def eval_init_state(self, env, nb_trials):   # NEW NEW NEW\n",
    "        with torch.no_grad():\n",
    "            for _ in range(nb_trials):\n",
    "                val = []\n",
    "                x = env.reset()\n",
    "                val.append(self.model(torch.Tensor(x).unsqueeze(0).to(device)).max().item())\n",
    "        return np.mean(val)\n",
    "    \n",
    "    def gradient_step(self):\n",
    "        if len(self.memory) > self.batch_size:\n",
    "            X, A, R, Y, D = self.memory.sample(self.batch_size)\n",
    "            QYmax = self.target_model(Y).max(1)[0].detach()\n",
    "            update = torch.addcmul(R, self.gamma, 1-D, QYmax)\n",
    "            QXA = self.model(X).gather(1, A.to(torch.long).unsqueeze(1))\n",
    "            loss = self.criterion(QXA, update.unsqueeze(1))\n",
    "            self.optimizer.zero_grad()\n",
    "            loss.backward()\n",
    "            self.optimizer.step() \n",
    "    \n",
    "    def train(self, env, max_episode):\n",
    "        # Training monitoring\n",
    "        episode_return = []\n",
    "        MC_avg_total_reward = []   # NEW NEW NEW\n",
    "        MC_avg_discounted_reward = []   # NEW NEW NEW\n",
    "        avg_Q_init_state = []   # NEW NE W NEW\n",
    "        \n",
    "        # Initialization\n",
    "        episode = 0\n",
    "        episode_cum_reward = 0\n",
    "        state = env.reset()\n",
    "        epsilon = self.epsilon_max\n",
    "        step = 0\n",
    "        while episode < max_episode:\n",
    "            # update epsilon\n",
    "            if step > self.epsilon_delay:\n",
    "                epsilon = max(self.epsilon_min, epsilon-self.epsilon_step)\n",
    "\n",
    "            # select epsilon-greedy action\n",
    "            if np.random.rand() < epsilon:\n",
    "                action = np.random.randint(self.nb_actions)\n",
    "            else:\n",
    "                action = greedy_action(self.model, state)\n",
    "\n",
    "            # step\n",
    "            next_state, reward, done, _ = env.step(action)\n",
    "            self.memory.append(state, action, reward, next_state, done)\n",
    "            episode_cum_reward += reward\n",
    "\n",
    "            # train\n",
    "            for _ in range(self.nb_gradient_steps):\n",
    "                self.gradient_step()\n",
    "\n",
    "            # update target network if needed\n",
    "            if step % self.update_target_freq == 0:\n",
    "                self.target_model.load_state_dict(self.model.state_dict())   \n",
    "            \n",
    "            # next transition\n",
    "            step += 1\n",
    "            if done:\n",
    "                episode += 1\n",
    "                \n",
    "                # Monitoring\n",
    "                if self.nb_trials>0:\n",
    "                    MC_dr, MC_tr = self.MC_eval(env, self.nb_trials)    # NEW NEW NEW\n",
    "                    Q0 = self.eval_init_state(env, self.nb_trials)   # NEW NEW NEW\n",
    "                    MC_avg_total_reward.append(MC_tr)   # NEW NEW NEW\n",
    "                    MC_avg_discounted_reward.append(MC_dr)   # NEW NEW NEW\n",
    "                    avg_Q_init_state.append(Q0)   # NEW NEW NEW\n",
    "                    episode_return.append(episode_cum_reward)   # NEW NEW NEW\n",
    "                    print(\"Episode \", '{:2d}'.format(episode), \n",
    "                          \", epsilon \", '{:6.2f}'.format(epsilon), \n",
    "                          \", batch size \", '{:4d}'.format(len(self.memory)), \n",
    "                          \", ep return \", '{:4.1f}'.format(episode_cum_reward), \n",
    "                          \", MC tot \", '{:6.2f}'.format(MC_tr),\n",
    "                          \", MC disc \", '{:6.2f}'.format(MC_dr),\n",
    "                          \", Q0 \", '{:6.2f}'.format(Q0),\n",
    "                          sep='')\n",
    "                else:\n",
    "                    episode_return.append(episode_cum_reward)\n",
    "                    print(\"Episode \", '{:2d}'.format(episode), \n",
    "                          \", epsilon \", '{:6.2f}'.format(epsilon), \n",
    "                          \", batch size \", '{:4d}'.format(len(self.memory)), \n",
    "                          \", ep return \", '{:4.1f}'.format(episode_cum_reward), \n",
    "                          sep='')\n",
    "                \n",
    "                # Start new episode\n",
    "                state = env.reset()\n",
    "                episode_cum_reward = 0\n",
    "            else:\n",
    "                state = next_state\n",
    "\n",
    "        return episode_return, MC_avg_discounted_reward, MC_avg_total_reward, avg_Q_init_state"
   ]
  },
  {
   "cell_type": "markdown",
   "metadata": {},
   "source": [
    "<div class=\"alert alert-warning\">\n",
    "    \n",
    "**Exercise:**  \n",
    "Use this monitoring to plot these values versus the number of episodes, after training.\n",
    "</div>"
   ]
  },
  {
   "cell_type": "code",
   "execution_count": 31,
   "metadata": {},
   "outputs": [
    {
     "name": "stdout",
     "output_type": "stream",
     "text": [
      "Episode  1, epsilon   1.00, batch size   14, ep return 14.0, MC tot  10.32, MC disc   8.20, Q0   0.07\n",
      "Episode  2, epsilon   1.00, batch size   25, ep return 11.0, MC tot  10.88, MC disc   8.53, Q0   0.32\n",
      "Episode  3, epsilon   0.95, batch size   68, ep return 43.0, MC tot  12.80, MC disc   9.54, Q0   1.05\n",
      "Episode  4, epsilon   0.94, batch size   80, ep return 12.0, MC tot  16.18, MC disc  10.96, Q0   1.07\n",
      "Episode  5, epsilon   0.93, batch size   93, ep return 13.0, MC tot  20.08, MC disc  12.19, Q0   1.07\n",
      "Episode  6, epsilon   0.90, batch size  121, ep return 28.0, MC tot   9.44, MC disc   7.67, Q0   1.97\n",
      "Episode  7, epsilon   0.87, batch size  148, ep return 27.0, MC tot  20.42, MC disc  12.83, Q0   2.01\n",
      "Episode  8, epsilon   0.84, batch size  180, ep return 32.0, MC tot  19.72, MC disc  12.61, Q0   1.97\n",
      "Episode  9, epsilon   0.83, batch size  194, ep return 14.0, MC tot  18.54, MC disc  12.16, Q0   2.03\n",
      "Episode 10, epsilon   0.80, batch size  227, ep return 33.0, MC tot  23.76, MC disc  13.95, Q0   2.94\n",
      "Episode 11, epsilon   0.75, batch size  275, ep return 48.0, MC tot  17.32, MC disc  11.67, Q0   2.93\n",
      "Episode 12, epsilon   0.73, batch size  292, ep return 17.0, MC tot  20.26, MC disc  12.81, Q0   3.00\n",
      "Episode 13, epsilon   0.70, batch size  326, ep return 34.0, MC tot  82.64, MC disc  19.70, Q0   3.71\n",
      "Episode 14, epsilon   0.62, batch size  408, ep return 82.0, MC tot 147.10, MC disc  19.99, Q0   4.67\n",
      "Episode 15, epsilon   0.52, batch size  510, ep return 102.0, MC tot 126.06, MC disc  19.93, Q0   5.50\n",
      "Episode 16, epsilon   0.43, batch size  592, ep return 82.0, MC tot 165.56, MC disc  19.98, Q0   5.53\n",
      "Episode 17, epsilon   0.39, batch size  639, ep return 47.0, MC tot 166.78, MC disc  19.98, Q0   6.30\n",
      "Episode 18, epsilon   0.28, batch size  751, ep return 112.0, MC tot 177.14, MC disc  19.99, Q0   6.98\n",
      "Episode 19, epsilon   0.24, batch size  788, ep return 37.0, MC tot 111.04, MC disc  19.90, Q0   7.11\n",
      "Episode 20, epsilon   0.06, batch size  971, ep return 183.0, MC tot 128.86, MC disc  19.97, Q0   8.39\n",
      "Episode 21, epsilon   0.01, batch size 1100, ep return 129.0, MC tot 126.34, MC disc  19.96, Q0   8.91\n",
      "Episode 22, epsilon   0.01, batch size 1260, ep return 160.0, MC tot 201.40, MC disc  19.99, Q0  10.10\n",
      "Episode 23, epsilon   0.01, batch size 1448, ep return 188.0, MC tot 269.72, MC disc  20.00, Q0  11.21\n",
      "Episode 24, epsilon   0.01, batch size 1643, ep return 195.0, MC tot 295.20, MC disc  20.00, Q0  12.22\n",
      "Episode 25, epsilon   0.01, batch size 1817, ep return 174.0, MC tot 157.40, MC disc  19.99, Q0  13.05\n",
      "Episode 26, epsilon   0.01, batch size 1985, ep return 168.0, MC tot 227.76, MC disc  20.00, Q0  13.29\n",
      "Episode 27, epsilon   0.01, batch size 2166, ep return 181.0, MC tot 160.78, MC disc  19.98, Q0  14.12\n",
      "Episode 28, epsilon   0.01, batch size 2318, ep return 152.0, MC tot 120.52, MC disc  19.96, Q0  14.68\n",
      "Episode 29, epsilon   0.01, batch size 2479, ep return 161.0, MC tot 123.88, MC disc  19.96, Q0  14.92\n",
      "Episode 30, epsilon   0.01, batch size 2615, ep return 136.0, MC tot 154.00, MC disc  19.99, Q0  15.55\n",
      "Episode 31, epsilon   0.01, batch size 2754, ep return 139.0, MC tot 166.54, MC disc  19.99, Q0  15.85\n",
      "Episode 32, epsilon   0.01, batch size 2915, ep return 161.0, MC tot 135.42, MC disc  19.98, Q0  16.33\n",
      "Episode 33, epsilon   0.01, batch size 3136, ep return 221.0, MC tot 144.44, MC disc  19.99, Q0  16.53\n",
      "Episode 34, epsilon   0.01, batch size 3269, ep return 133.0, MC tot 160.12, MC disc  19.99, Q0  16.68\n",
      "Episode 35, epsilon   0.01, batch size 3397, ep return 128.0, MC tot 163.72, MC disc  19.99, Q0  16.97\n",
      "Episode 36, epsilon   0.01, batch size 3549, ep return 152.0, MC tot 161.74, MC disc  19.99, Q0  17.15\n",
      "Episode 37, epsilon   0.01, batch size 3731, ep return 182.0, MC tot 135.32, MC disc  19.97, Q0  17.54\n",
      "Episode 38, epsilon   0.01, batch size 3927, ep return 196.0, MC tot 129.20, MC disc  19.97, Q0  17.66\n",
      "Episode 39, epsilon   0.01, batch size 4085, ep return 158.0, MC tot 230.84, MC disc  20.00, Q0  17.90\n",
      "Episode 40, epsilon   0.01, batch size 4354, ep return 269.0, MC tot 234.80, MC disc  20.00, Q0  18.34\n"
     ]
    },
    {
     "data": {
      "image/png": "[encoded data removed]",
      "text/plain": [
       "<Figure size 432x288 with 1 Axes>"
      ]
     },
     "metadata": {
      "needs_background": "light"
     },
     "output_type": "display_data"
    },
    {
     "data": {
      "image/png": "[encoded data removed]",
      "text/plain": [
       "<Figure size 432x288 with 1 Axes>"
      ]
     },
     "metadata": {
      "needs_background": "light"
     },
     "output_type": "display_data"
    }
   ],
   "source": [
    "# %load solutions/RL5_exercise10.py\n",
    "### WRITE YOUR CODE HERE\n",
    "# If you get stuck, uncomment the line above to load a correction in this cell (then you can execute this code).\n",
    "\n",
    "# Let's reset the Q function\n",
    "\n",
    "import torch\n",
    "import torch.nn as nn\n",
    "\n",
    "device = torch.device(\"cuda\" if torch.cuda.is_available() else \"cpu\")\n",
    "\n",
    "state_dim = cartpole.observation_space.shape[0]\n",
    "n_action = cartpole.action_space.n \n",
    "nb_neurons=24\n",
    "\n",
    "DQN = torch.nn.Sequential(nn.Linear(state_dim, nb_neurons),\n",
    "                          nn.ReLU(),\n",
    "                          nn.Linear(nb_neurons, nb_neurons),\n",
    "                          nn.ReLU(), \n",
    "                          nn.Linear(nb_neurons, n_action)).to(device)\n",
    "\n",
    "config = {'observation_space': cartpole.observation_space.shape[0],\n",
    "          'nb_actions': cartpole.action_space.n,\n",
    "          'learning_rate': 0.001,\n",
    "          'gamma': 0.95,\n",
    "          'buffer_size': 1000000,\n",
    "          'epsilon_min': 0.01,\n",
    "          'epsilon_max': 1.,\n",
    "          'epsilon_decay_period': 1000,\n",
    "          'epsilon_delay_decay': 20,\n",
    "          'batch_size': 20,\n",
    "          'gradient_steps': 10,\n",
    "          'update_target_freq': 100,\n",
    "          'nb_trials': 50}\n",
    "\n",
    "agent = DQN_agent(config, DQN)\n",
    "ep_length, disc_rewards, tot_rewards, Q0 = agent.train(cartpole, 40)\n",
    "\n",
    "plt.plot(ep_length, label=\"training episode length\")\n",
    "plt.plot(tot_rewards, label=\"MC eval of total reward\")\n",
    "plt.legend()\n",
    "plt.figure()\n",
    "plt.plot(disc_rewards, label=\"MC eval of discounted reward\")\n",
    "plt.plot(Q0, label=\"average $max_a Q(s_0)$\")\n",
    "plt.legend();"
   ]
  },
  {
   "cell_type": "markdown",
   "metadata": {},
   "source": [
    "Remarks on CartPole:\n",
    "- Have you noted that Q overestimates the true value of the optimal policy? More on this in [this paper](https://papers.nips.cc/paper/3964-double-q-learning) if you are interested.\n",
    "- Have you noted that the greedy policy is optimal much sooner than the $Q$ function?\n",
    "- Have you remarked that the greedy policy performs well much sooner than the agent's policy (which is $\\epsilon$-greedy)?\n",
    "- Can you anticipate the importance of well tuned exploration, for instance if the state space is much larger, or if parts of it are very hard to reach?\n",
    "- Can you anticipate the effect of taking a larger $\\gamma$?"
   ]
  },
  {
   "cell_type": "markdown",
   "metadata": {},
   "source": [
    "<div class=\"alert alert-warning\">\n",
    "    \n",
    "**Exercise:**  \n",
    "Train on SwingUp.\n",
    "</div>"
   ]
  },
  {
   "cell_type": "code",
   "execution_count": 38,
   "metadata": {},
   "outputs": [
    {
     "name": "stderr",
     "output_type": "stream",
     "text": [
      "/home/hugo/.local/lib/python3.7/site-packages/ipykernel_launcher.py:22: DeprecationWarning: In future, it will be an error for 'np.bool_' scalars to be interpreted as an index\n"
     ]
    },
    {
     "name": "stdout",
     "output_type": "stream",
     "text": [
      "Episode  1, epsilon   0.90, batch size  198, ep return -10.0\n"
     ]
    },
    {
     "name": "stderr",
     "output_type": "stream",
     "text": [
      "/home/hugo/reinforcement-learning/notebooks/environments/swingup.py:32: UserWarning: \u001b[33mWARN: You are calling 'step()' even though this environment has already returned done = True. You should always call 'reset()' once you receive 'done = True' -- any further steps are undefined behavior.\u001b[0m\n",
      "  logger.warn(\"You are calling 'step()' even though this environment has already returned done = True. You should always call 'reset()' once you receive 'done = True' -- any further steps are undefined behavior.\")\n"
     ]
    },
    {
     "name": "stdout",
     "output_type": "stream",
     "text": [
      "Episode  2, epsilon   0.74, batch size  359, ep return -10.0\n",
      "Episode  3, epsilon   0.50, batch size  606, ep return -10.0\n",
      "Episode  4, epsilon   0.43, batch size  673, ep return -10.0\n",
      "Episode  5, epsilon   0.31, batch size  793, ep return -10.0\n",
      "Episode  6, epsilon   0.26, batch size  844, ep return -10.0\n",
      "Episode  7, epsilon   0.22, batch size  886, ep return -10.0\n",
      "Episode  8, epsilon   0.17, batch size  936, ep return -10.0\n",
      "Episode  9, epsilon   0.13, batch size  981, ep return -10.0\n",
      "Episode 10, epsilon   0.04, batch size 1075, ep return -10.0\n",
      "Episode 11, epsilon   0.01, batch size 1119, ep return -10.0\n",
      "Episode 12, epsilon   0.01, batch size 1164, ep return -10.0\n",
      "Episode 13, epsilon   0.01, batch size 1532, ep return 21.0\n",
      "Episode 14, epsilon   0.01, batch size 1579, ep return -10.0\n",
      "Episode 15, epsilon   0.01, batch size 1733, ep return -10.0\n",
      "Episode 16, epsilon   0.01, batch size 1788, ep return -10.0\n",
      "Episode 17, epsilon   0.01, batch size 1844, ep return -10.0\n",
      "Episode 18, epsilon   0.01, batch size 2017, ep return -10.0\n",
      "Episode 19, epsilon   0.01, batch size 2075, ep return -10.0\n",
      "Episode 20, epsilon   0.01, batch size 2123, ep return -10.0\n",
      "Episode 21, epsilon   0.01, batch size 2225, ep return -10.0\n",
      "Episode 22, epsilon   0.01, batch size 2283, ep return -10.0\n",
      "Episode 23, epsilon   0.01, batch size 2392, ep return -10.0\n",
      "Episode 24, epsilon   0.01, batch size 2728, ep return -10.0\n",
      "Episode 25, epsilon   0.01, batch size 3205, ep return 36.0\n",
      "Episode 26, epsilon   0.01, batch size 3296, ep return -10.0\n",
      "Episode 27, epsilon   0.01, batch size 3559, ep return 27.0\n",
      "Episode 28, epsilon   0.01, batch size 3656, ep return -10.0\n",
      "Episode 29, epsilon   0.01, batch size 3740, ep return -10.0\n",
      "Episode 30, epsilon   0.01, batch size 3805, ep return -10.0\n",
      "177\n",
      "-10.0\n"
     ]
    }
   ],
   "source": [
    "# %load solutions/RL5_exercise11.py\n",
    "### WRITE YOUR CODE HERE\n",
    "# If you get stuck, uncomment the line above to load a correction in this cell (then you can execute this code).\n",
    "\n",
    "# Let's reset the Q function\n",
    "\n",
    "import torch\n",
    "import torch.nn as nn\n",
    "from environments.swingup import CartPoleSwingUp\n",
    "\n",
    "swingup = CartPoleSwingUp()\n",
    "\n",
    "config = {'observation_space': swingup.observation_space.shape[0],\n",
    "          'nb_actions': swingup.action_space.n,\n",
    "          'learning_rate': 0.001,\n",
    "          'gamma': 0.95,\n",
    "          'buffer_size': 1000000,\n",
    "          'epsilon_min': 0.01,\n",
    "          'epsilon_max': 1.,\n",
    "          'epsilon_stop': 10000,\n",
    "          'epsilon_decay_period':1000,\n",
    "          'epsilon_delay_decay': 100,\n",
    "          'batch_size': 20,\n",
    "          'gradient_steps': 10,\n",
    "          'update_target_freq': 100,\n",
    "          'nb_trials': 0}\n",
    "\n",
    "DQN = torch.nn.Sequential(nn.Linear(swingup.observation_space.shape[0], 24),\n",
    "                          nn.ReLU(),\n",
    "                          nn.Linear(24, 24),\n",
    "                          nn.ReLU(), \n",
    "                          nn.Linear(24, swingup.action_space.n)).to(device)\n",
    "\n",
    "agent = DQN_agent(config, DQN)\n",
    "ep_length, disc_rewards, tot_rewards, Q0 = agent.train(swingup, 30)\n",
    "torch.save(DQN.state_dict(), \"swingup_dqn.pth\")\n",
    "\n",
    "DQN.load_state_dict(torch.load(\"swingup_dqn.pth\"))\n",
    "x = swingup.reset()\n",
    "#swingup.render()\n",
    "tot_rew = 0\n",
    "for i in range(1000):\n",
    "    a = greedy_action(DQN, x)\n",
    "    y, r, d, _ = swingup.step(a)\n",
    "    #swingup.render()\n",
    "    x=y\n",
    "    tot_rew += r\n",
    "    if d:\n",
    "        break\n",
    "\n",
    "print(i)\n",
    "print(tot_rew)\n",
    "\n",
    "#swingup.close()"
   ]
  },
  {
   "cell_type": "markdown",
   "metadata": {},
   "source": [
    "Remarks on SwingUp:\n",
    "- Did your DQN learn to avoid the -10 penalty instead of swinging up? The exploration question becomes a crucial issue, doesn't it?"
   ]
  },
  {
   "cell_type": "markdown",
   "metadata": {},
   "source": [
    "# <a id=\"sec7\"></a>DQN on image-based tasks\n",
    "\n",
    "Now it's time to turn towards Pong. As you noted earlier, the frame information in Pong is not sufficient to define an MDP, but stacking several frames together allows to recover the Markov property.\n",
    "\n",
    "We could wish to modify the previous replay buffer so that frames are stored only once (for memory efficiency). Then this new replay buffer would still need to return stacks of 4 frames when `sample()` is called.\n",
    "\n",
    "Fortunately, there's a simpler way to do that.\n",
    "We can use a wrapper (provided by Gym in this case) so that calling env.step(a) returns a stack of 4 frames.\n",
    "This wrapper actually only stores each frame once which optimizes memory efficiency. This way, we can keep on using our previous replay buffer class."
   ]
  },
  {
   "cell_type": "code",
   "execution_count": null,
   "metadata": {},
   "outputs": [],
   "source": [
    "from gym.wrappers import FrameStack\n",
    "pong = FrameStack(pong, 4)"
   ]
  },
  {
   "cell_type": "code",
   "execution_count": null,
   "metadata": {},
   "outputs": [],
   "source": [
    "x = pong.reset()\n",
    "print(torch.Tensor(x).shape)"
   ]
  },
  {
   "cell_type": "markdown",
   "metadata": {},
   "source": [
    "The two DQN papers ([Playing Atari with Deep Reinforcement Learning](https://arxiv.org/abs/1312.5602) and [Human-level control through deep reinforcement learning](https://deepmind.com/research/publications/human-level-control-through-deep-reinforcement-learning)) actually introduce two different neural network architectures.\n",
    "\n",
    "The 2013 paper uses this architecture:\n",
    "- input: $84\\times 84\\times 4$ image (the last 4 frames)\n",
    "- layer 1: Convolutions with 16 filters of size $8\\times 8$ and stride 4. The activation is a ReLU function.\n",
    "- layer 2: Convolutions with 32 filters of size $4\\times 4$ and stride 2. The activation is a ReLU function.\n",
    "- layer 3: Fully connected with 256 ReLU units\n",
    "- layer 4 (output): Fully connected with 2 linear units (one for each action's value)\n",
    "\n",
    "The 2015 paper \n",
    "- input: $84\\times 84\\times 4$ image (the last 4 frames)\n",
    "- layer 1: Convolutions with 32 filters of size $8\\times 8$ and stride 4. The activation is a ReLU function.\n",
    "- layer 2: Convolutions with 64 filters of size $4\\times 4$ and stride 2. The activation is a ReLU function.\n",
    "- layer 3: Convolutions with 64 filters of size $3\\times 3$ and stride 1. The activation is a ReLU function.\n",
    "- layer 4: Fully connected with 512 ReLU units\n",
    "- layer 5 (output): Fully connected with 2 linear units (one for each action's value)\n",
    "\n",
    "Also, it is a good practice to pre-fill the replay buffer with randomly sampled experience. The 2015 paper runs a random policy for 50000 steps to feed the replay buffer before training."
   ]
  },
  {
   "cell_type": "markdown",
   "metadata": {},
   "source": [
    "<div class=\"alert alert-warning\">\n",
    "    \n",
    "**Exercise:** Create the corresponding neural network and adapt your optimization code from the previous exercice to train on Pong (you can take $C$ much larger, in the order of $10000$).\n",
    "</div>\n",
    "\n",
    "Caveat: unless you have a good GPU and a fair amount of time ahead of you (several hours or more), it is recommended to run this computation for a limited number of episodes, on a cloud computing service (or on a dediated machine)."
   ]
  },
  {
   "cell_type": "code",
   "execution_count": 41,
   "metadata": {},
   "outputs": [
    {
     "name": "stderr",
     "output_type": "stream",
     "text": [
      "100%|████████████████████████████████████████████████████████████████████████████| 50000/50000 [01:21<00:00, 616.74it/s]\n"
     ]
    },
    {
     "ename": "NameError",
     "evalue": "name 'F' is not defined",
     "output_type": "error",
     "traceback": [
      "\u001b[0;31m---------------------------------------------------------------------------\u001b[0m",
      "\u001b[0;31mNameError\u001b[0m                                 Traceback (most recent call last)",
      "\u001b[0;32m/tmp/ipykernel_2673/4271651509.py\u001b[0m in \u001b[0;36m<module>\u001b[0;34m\u001b[0m\n\u001b[1;32m     54\u001b[0m \u001b[0;34m\u001b[0m\u001b[0m\n\u001b[1;32m     55\u001b[0m \u001b[0;31m# train\u001b[0m\u001b[0;34m\u001b[0m\u001b[0;34m\u001b[0m\u001b[0;34m\u001b[0m\u001b[0m\n\u001b[0;32m---> 56\u001b[0;31m \u001b[0mep_length\u001b[0m\u001b[0;34m,\u001b[0m \u001b[0mdisc_rewards\u001b[0m\u001b[0;34m,\u001b[0m \u001b[0mtot_rewards\u001b[0m\u001b[0;34m,\u001b[0m \u001b[0mQ0\u001b[0m \u001b[0;34m=\u001b[0m \u001b[0magent\u001b[0m\u001b[0;34m.\u001b[0m\u001b[0mtrain\u001b[0m\u001b[0;34m(\u001b[0m\u001b[0mpong\u001b[0m\u001b[0;34m,\u001b[0m \u001b[0;36m30\u001b[0m\u001b[0;34m)\u001b[0m\u001b[0;34m\u001b[0m\u001b[0;34m\u001b[0m\u001b[0m\n\u001b[0m",
      "\u001b[0;32m/tmp/ipykernel_2673/4183550076.py\u001b[0m in \u001b[0;36mtrain\u001b[0;34m(self, env, max_episode)\u001b[0m\n\u001b[1;32m     98\u001b[0m             \u001b[0;31m# train\u001b[0m\u001b[0;34m\u001b[0m\u001b[0;34m\u001b[0m\u001b[0;34m\u001b[0m\u001b[0m\n\u001b[1;32m     99\u001b[0m             \u001b[0;32mfor\u001b[0m \u001b[0m_\u001b[0m \u001b[0;32min\u001b[0m \u001b[0mrange\u001b[0m\u001b[0;34m(\u001b[0m\u001b[0mself\u001b[0m\u001b[0;34m.\u001b[0m\u001b[0mnb_gradient_steps\u001b[0m\u001b[0;34m)\u001b[0m\u001b[0;34m:\u001b[0m\u001b[0;34m\u001b[0m\u001b[0;34m\u001b[0m\u001b[0m\n\u001b[0;32m--> 100\u001b[0;31m                 \u001b[0mself\u001b[0m\u001b[0;34m.\u001b[0m\u001b[0mgradient_step\u001b[0m\u001b[0;34m(\u001b[0m\u001b[0;34m)\u001b[0m\u001b[0;34m\u001b[0m\u001b[0;34m\u001b[0m\u001b[0m\n\u001b[0m\u001b[1;32m    101\u001b[0m \u001b[0;34m\u001b[0m\u001b[0m\n\u001b[1;32m    102\u001b[0m             \u001b[0;31m# update target network if needed\u001b[0m\u001b[0;34m\u001b[0m\u001b[0;34m\u001b[0m\u001b[0;34m\u001b[0m\u001b[0m\n",
      "\u001b[0;32m/tmp/ipykernel_2673/4183550076.py\u001b[0m in \u001b[0;36mgradient_step\u001b[0;34m(self)\u001b[0m\n\u001b[1;32m     59\u001b[0m         \u001b[0;32mif\u001b[0m \u001b[0mlen\u001b[0m\u001b[0;34m(\u001b[0m\u001b[0mself\u001b[0m\u001b[0;34m.\u001b[0m\u001b[0mmemory\u001b[0m\u001b[0;34m)\u001b[0m \u001b[0;34m>\u001b[0m \u001b[0mself\u001b[0m\u001b[0;34m.\u001b[0m\u001b[0mbatch_size\u001b[0m\u001b[0;34m:\u001b[0m\u001b[0;34m\u001b[0m\u001b[0;34m\u001b[0m\u001b[0m\n\u001b[1;32m     60\u001b[0m             \u001b[0mX\u001b[0m\u001b[0;34m,\u001b[0m \u001b[0mA\u001b[0m\u001b[0;34m,\u001b[0m \u001b[0mR\u001b[0m\u001b[0;34m,\u001b[0m \u001b[0mY\u001b[0m\u001b[0;34m,\u001b[0m \u001b[0mD\u001b[0m \u001b[0;34m=\u001b[0m \u001b[0mself\u001b[0m\u001b[0;34m.\u001b[0m\u001b[0mmemory\u001b[0m\u001b[0;34m.\u001b[0m\u001b[0msample\u001b[0m\u001b[0;34m(\u001b[0m\u001b[0mself\u001b[0m\u001b[0;34m.\u001b[0m\u001b[0mbatch_size\u001b[0m\u001b[0;34m)\u001b[0m\u001b[0;34m\u001b[0m\u001b[0;34m\u001b[0m\u001b[0m\n\u001b[0;32m---> 61\u001b[0;31m             \u001b[0mQYmax\u001b[0m \u001b[0;34m=\u001b[0m \u001b[0mself\u001b[0m\u001b[0;34m.\u001b[0m\u001b[0mtarget_model\u001b[0m\u001b[0;34m(\u001b[0m\u001b[0mY\u001b[0m\u001b[0;34m)\u001b[0m\u001b[0;34m.\u001b[0m\u001b[0mmax\u001b[0m\u001b[0;34m(\u001b[0m\u001b[0;36m1\u001b[0m\u001b[0;34m)\u001b[0m\u001b[0;34m[\u001b[0m\u001b[0;36m0\u001b[0m\u001b[0;34m]\u001b[0m\u001b[0;34m.\u001b[0m\u001b[0mdetach\u001b[0m\u001b[0;34m(\u001b[0m\u001b[0;34m)\u001b[0m\u001b[0;34m\u001b[0m\u001b[0;34m\u001b[0m\u001b[0m\n\u001b[0m\u001b[1;32m     62\u001b[0m             \u001b[0mupdate\u001b[0m \u001b[0;34m=\u001b[0m \u001b[0mtorch\u001b[0m\u001b[0;34m.\u001b[0m\u001b[0maddcmul\u001b[0m\u001b[0;34m(\u001b[0m\u001b[0mR\u001b[0m\u001b[0;34m,\u001b[0m \u001b[0mself\u001b[0m\u001b[0;34m.\u001b[0m\u001b[0mgamma\u001b[0m\u001b[0;34m,\u001b[0m \u001b[0;36m1\u001b[0m\u001b[0;34m-\u001b[0m\u001b[0mD\u001b[0m\u001b[0;34m,\u001b[0m \u001b[0mQYmax\u001b[0m\u001b[0;34m)\u001b[0m\u001b[0;34m\u001b[0m\u001b[0;34m\u001b[0m\u001b[0m\n\u001b[1;32m     63\u001b[0m             \u001b[0mQXA\u001b[0m \u001b[0;34m=\u001b[0m \u001b[0mself\u001b[0m\u001b[0;34m.\u001b[0m\u001b[0mmodel\u001b[0m\u001b[0;34m(\u001b[0m\u001b[0mX\u001b[0m\u001b[0;34m)\u001b[0m\u001b[0;34m.\u001b[0m\u001b[0mgather\u001b[0m\u001b[0;34m(\u001b[0m\u001b[0;36m1\u001b[0m\u001b[0;34m,\u001b[0m \u001b[0mA\u001b[0m\u001b[0;34m.\u001b[0m\u001b[0mto\u001b[0m\u001b[0;34m(\u001b[0m\u001b[0mtorch\u001b[0m\u001b[0;34m.\u001b[0m\u001b[0mlong\u001b[0m\u001b[0;34m)\u001b[0m\u001b[0;34m.\u001b[0m\u001b[0munsqueeze\u001b[0m\u001b[0;34m(\u001b[0m\u001b[0;36m1\u001b[0m\u001b[0;34m)\u001b[0m\u001b[0;34m)\u001b[0m\u001b[0;34m\u001b[0m\u001b[0;34m\u001b[0m\u001b[0m\n",
      "\u001b[0;32m~/anaconda3/envs/flatland-rl/lib/python3.7/site-packages/torch/nn/modules/module.py\u001b[0m in \u001b[0;36m_call_impl\u001b[0;34m(self, *input, **kwargs)\u001b[0m\n\u001b[1;32m   1100\u001b[0m         if not (self._backward_hooks or self._forward_hooks or self._forward_pre_hooks or _global_backward_hooks\n\u001b[1;32m   1101\u001b[0m                 or _global_forward_hooks or _global_forward_pre_hooks):\n\u001b[0;32m-> 1102\u001b[0;31m             \u001b[0;32mreturn\u001b[0m \u001b[0mforward_call\u001b[0m\u001b[0;34m(\u001b[0m\u001b[0;34m*\u001b[0m\u001b[0minput\u001b[0m\u001b[0;34m,\u001b[0m \u001b[0;34m**\u001b[0m\u001b[0mkwargs\u001b[0m\u001b[0;34m)\u001b[0m\u001b[0;34m\u001b[0m\u001b[0;34m\u001b[0m\u001b[0m\n\u001b[0m\u001b[1;32m   1103\u001b[0m         \u001b[0;31m# Do not call functions when jit is used\u001b[0m\u001b[0;34m\u001b[0m\u001b[0;34m\u001b[0m\u001b[0;34m\u001b[0m\u001b[0m\n\u001b[1;32m   1104\u001b[0m         \u001b[0mfull_backward_hooks\u001b[0m\u001b[0;34m,\u001b[0m \u001b[0mnon_full_backward_hooks\u001b[0m \u001b[0;34m=\u001b[0m \u001b[0;34m[\u001b[0m\u001b[0;34m]\u001b[0m\u001b[0;34m,\u001b[0m \u001b[0;34m[\u001b[0m\u001b[0;34m]\u001b[0m\u001b[0;34m\u001b[0m\u001b[0;34m\u001b[0m\u001b[0m\n",
      "\u001b[0;32m/tmp/ipykernel_2673/4271651509.py\u001b[0m in \u001b[0;36mforward\u001b[0;34m(self, x)\u001b[0m\n\u001b[1;32m     15\u001b[0m \u001b[0;34m\u001b[0m\u001b[0m\n\u001b[1;32m     16\u001b[0m     \u001b[0;32mdef\u001b[0m \u001b[0mforward\u001b[0m\u001b[0;34m(\u001b[0m\u001b[0mself\u001b[0m\u001b[0;34m,\u001b[0m \u001b[0mx\u001b[0m\u001b[0;34m)\u001b[0m\u001b[0;34m:\u001b[0m\u001b[0;34m\u001b[0m\u001b[0;34m\u001b[0m\u001b[0m\n\u001b[0;32m---> 17\u001b[0;31m         \u001b[0mx\u001b[0m \u001b[0;34m=\u001b[0m \u001b[0mF\u001b[0m\u001b[0;34m.\u001b[0m\u001b[0mrelu\u001b[0m\u001b[0;34m(\u001b[0m\u001b[0mself\u001b[0m\u001b[0;34m.\u001b[0m\u001b[0mconv1\u001b[0m\u001b[0;34m(\u001b[0m\u001b[0mx\u001b[0m\u001b[0;34m)\u001b[0m\u001b[0;34m)\u001b[0m\u001b[0;34m\u001b[0m\u001b[0;34m\u001b[0m\u001b[0m\n\u001b[0m\u001b[1;32m     18\u001b[0m         \u001b[0mx\u001b[0m \u001b[0;34m=\u001b[0m \u001b[0mF\u001b[0m\u001b[0;34m.\u001b[0m\u001b[0mrelu\u001b[0m\u001b[0;34m(\u001b[0m\u001b[0mself\u001b[0m\u001b[0;34m.\u001b[0m\u001b[0mconv2\u001b[0m\u001b[0;34m(\u001b[0m\u001b[0mx\u001b[0m\u001b[0;34m)\u001b[0m\u001b[0;34m)\u001b[0m\u001b[0;34m\u001b[0m\u001b[0;34m\u001b[0m\u001b[0m\n\u001b[1;32m     19\u001b[0m         \u001b[0mx\u001b[0m \u001b[0;34m=\u001b[0m \u001b[0mF\u001b[0m\u001b[0;34m.\u001b[0m\u001b[0mrelu\u001b[0m\u001b[0;34m(\u001b[0m\u001b[0mself\u001b[0m\u001b[0;34m.\u001b[0m\u001b[0mconv3\u001b[0m\u001b[0;34m(\u001b[0m\u001b[0mx\u001b[0m\u001b[0;34m)\u001b[0m\u001b[0;34m)\u001b[0m\u001b[0;34m\u001b[0m\u001b[0;34m\u001b[0m\u001b[0m\n",
      "\u001b[0;31mNameError\u001b[0m: name 'F' is not defined"
     ]
    }
   ],
   "source": [
    "# %load solutions/RL5_exercise12.py\n",
    "### WRITE YOUR CODE HERE\n",
    "# If you get stuck, uncomment the line above to load a correction in this cell (then you can execute this code).\n",
    "\n",
    "# Let's reset the Q function\n",
    "\n",
    "class AtariCNN(nn.Module):\n",
    "    def __init__(self, in_channels=4, n_actions=2):\n",
    "        super(AtariCNN, self).__init__()\n",
    "        self.conv1 = nn.Conv2d(in_channels, 32, kernel_size=8, stride=4)\n",
    "        self.conv2 = nn.Conv2d(32, 64, kernel_size=4, stride=2)\n",
    "        self.conv3 = nn.Conv2d(64, 64, kernel_size=3, stride=1)\n",
    "        self.fc4 = nn.Linear(7 * 7 * 64, 512)\n",
    "        self.head = nn.Linear(512, n_actions)\n",
    "      \n",
    "    def forward(self, x):\n",
    "        x = F.relu(self.conv1(x))\n",
    "        x = F.relu(self.conv2(x))\n",
    "        x = F.relu(self.conv3(x))\n",
    "        x = F.relu(self.fc4(x.view(x.size(0), -1)))\n",
    "        return self.head(x)\n",
    "\n",
    "from tqdm import trange\n",
    "\n",
    "config = {'observation_space': cartpole.observation_space.shape[0],\n",
    "          'nb_actions': cartpole.action_space.n,\n",
    "          'learning_rate': 0.001,\n",
    "          'gamma': 0.95,\n",
    "          'buffer_size': 1000000,\n",
    "          'epsilon_min': 0.1,\n",
    "          'epsilon_max': 1.,\n",
    "          'epsilon_stop': 1000000,\n",
    "          'epsilon_delay_decay': 0,\n",
    "          'epsilon_decay_period':1000,\n",
    "          'batch_size': 32,\n",
    "          'gradient_steps': 10,\n",
    "          'update_target_freq': 10000,\n",
    "          'nb_trials': 0}\n",
    "\n",
    "AtariDQN = AtariCNN()\n",
    "\n",
    "agent = DQN_agent(config, AtariDQN)\n",
    "\n",
    "# pre-fill the replay buffer\n",
    "x = pong.reset()\n",
    "for t in trange(50000):\n",
    "    a = np.random.randint(2)\n",
    "    y, r, d, _ = pong.step(a)\n",
    "    agent.memory.append(x, a, r, y, d)\n",
    "    if d:\n",
    "        x = pong.reset()\n",
    "    else:\n",
    "        x = y\n",
    "\n",
    "# train\n",
    "ep_length, disc_rewards, tot_rewards, Q0 = agent.train(pong, 30)"
   ]
  },
  {
   "cell_type": "markdown",
   "metadata": {},
   "source": [
    "To give you an idea of the behavior of a trained agent, you can check the following videos."
   ]
  },
  {
   "cell_type": "code",
   "execution_count": null,
   "metadata": {},
   "outputs": [],
   "source": [
    "from IPython.display import YouTubeVideo\n",
    "YouTubeVideo(\"p88R2_3yWPA\")"
   ]
  },
  {
   "cell_type": "code",
   "execution_count": null,
   "metadata": {},
   "outputs": [],
   "source": [
    "YouTubeVideo(\"TmPfTpjtdgg\")"
   ]
  },
  {
   "cell_type": "markdown",
   "metadata": {},
   "source": [
    "# <a id=\"sec7\"></a>Going further\n",
    "\n",
    "A lot of contributions have built on the initial success of DQN. Among those, some are combined and discussed in the **[Rainbow: Combining Improvements in Deep Reinforcement Learning](https://arxiv.org/abs/1710.02298)** paper. We will simply summarize their key ideas here, by decreasing order of importance (according to the paper).\n",
    "\n",
    "- N-step returns. Use samples that accumulate several returns rather than the 1-step return of TD(0).\n",
    "- [Prioritized experience replay](https://arxiv.org/abs/1511.05952). Inspired by the model-based [Prioritized Sweeping](https://link.springer.com/article/10.1007/BF00993104) approach, bias the distribution used to sample mini-batches in order to present high residual samples to the optimizer. Prioritized Sweeping is designed to accelerate the convergence in $L_\\infty$ norm for tabular representations.\n",
    "- [Distributional value functions](https://arxiv.org/abs/1707.06887). Instead of estimating $\\mathbb{E}(\\sum_t \\gamma^t r_t)$, estimate the distribution of $\\sum_t \\gamma^r r_t$ and iterate on it.\n",
    "- [NoisyNet](https://arxiv.org/abs/1706.10295). Instead of an $\\epsilon$-greedy exploration strategy, introduce noise in the network's parameters to drive the exploration.\n",
    "- [Dueling architecture](https://arxiv.org/abs/1511.06581). The neural network's architecture splits $Q$ into the estimation of a value $V(s)$ and an advantage $A(s,a)$ with shared first layers.\n",
    "- [Double Q-learning](https://arxiv.org/abs/1509.06461). Q-learning is prone to over-estimation of the true optimal Q function (especially in high variance environments). Double Q-learning aims at compensating this weakness by introducing an under-estimation mechanism based on a second Q function.\n",
    "\n",
    "Beyond these improvements, new work is published each year that leads to a better understanding of the interplay between Deep Learning and RL."
   ]
  },
  {
   "cell_type": "markdown",
   "metadata": {},
   "source": [
    "# <a id=\"challenge\"></a>Challenge\n",
    "\n",
    "In this challenge, we provide two new environments, on top of the SwingUp problem introduced before. All environments feature different difficulties. It is recommended that you focus on a single environment."
   ]
  },
  {
   "cell_type": "markdown",
   "metadata": {},
   "source": [
    "## <a id=\"bicycle\"></a>Bicycle\n",
    "\n",
    "This environment was originally introduced in the 1998 article on **[Learning to Drive a Bicycle Using Reinforcement Learning and Shaping](#https://www.researchgate.net/publication/221346431_Learning_to_Drive_a_Bicycle_Using_Reinforcement_Learning_and_Shaping)** by J. Randløv and P. Alstrøm. Notably, it was also one of the key benchmarks for **[Least Squares Policy Iteration](http://www.jmlr.org/papers/volume4/lagoudakis03a/lagoudakis03a.pdf)** by Lagoudakis and Parr in 2003.\n",
    "\n",
    "The environment provided here uses the exact same simulator but defines more rigorously the state variables. It is not a gym environment and has no `render` method, but it still provides the `step` and `reset` methods.\n",
    "\n",
    "In short, in this environment you try to ride a bicyle from an initial location $(x,y)=(0,0)$ to a goal that is located one kilometer further $(x_{goal},y_{goal})=(1000,0)$.\n",
    "\n",
    "The bicycle state variables are:\n",
    "- $\\theta$ the angle of the handlebar\n",
    "- $\\dot{\\theta}$\n",
    "- $\\omega$ the tilt angle between the $z$-axis and the bicycle+cyclist center of mass\n",
    "- $\\dot{\\omega}$\n",
    "- $x_b,y_b$ the position of the bicyle's back tire\n",
    "- $x_f,y_f$ the position of the bicyle's front tire\n",
    "- $\\psi'_{goal}$ a not-so-useful variable kept for historical reasons, that is roughly proprotional to $\\psi_{goal}$\n",
    "- $d_{goal}$ the distance between the front tire and the goal\n",
    "- $\\psi$ the bicycle's heading angle (angle between the bicycle and the y-axis)\n",
    "- $\\psi_{goal}$ the angle between the bicycle back wheel - front wheel axis, and the back wheel - goal axis\n",
    "\n",
    "The agent starts at $(x_b,y_b)=(0,0)$ with a random heading in $[-\\pi,\\pi]$, and random small values for $\\theta$, $\\dot{\\theta}$, $\\omega$ and $\\dot{\\omega}$ around the unstable equilibrium point."
   ]
  },
  {
   "cell_type": "code",
   "execution_count": null,
   "metadata": {},
   "outputs": [],
   "source": [
    "from environments.bicycle import Bicycle\n",
    "bike = Bicycle()\n",
    "x = bike.reset()\n",
    "print(x)"
   ]
  },
  {
   "cell_type": "markdown",
   "metadata": {},
   "source": [
    "The cyclist moves at a constant speed and his actions to control the bicycle consist in applying a torque to the handlebar or shifting his weight left or right. The action space is discrete and consists of 5 actions. What you pass to the `step` method is the action index.\n",
    "\n",
    "The episode ends when the tilt angle exceeds $\\frac{\\pi}{15}$.\n",
    "\n",
    "To encourage the bike staying up and guiding it towards the goal, the reward model uses *reward shaping*. It is written:\n",
    "$$r(s,a,s') = \\omega^2 - \\omega'^2 + k\\cdot\\left( d_{goal} - d'_{goal} \\right)$$"
   ]
  },
  {
   "cell_type": "code",
   "execution_count": null,
   "metadata": {
    "scrolled": true
   },
   "outputs": [],
   "source": [
    "%matplotlib inline\n",
    "import matplotlib.pyplot as plt\n",
    "\n",
    "print(bike.action_set)\n",
    "X = []\n",
    "x = bike.reset()\n",
    "X.append(x)\n",
    "for i in range(1000):\n",
    "    y, r, d, _ = bike.step(0)\n",
    "    x = y\n",
    "    X.append(x)\n",
    "    if d:\n",
    "        break\n",
    "\n",
    "print(\"trajectory length\", len(X))\n",
    "X = np.array(X)\n",
    "plt.plot(X[:,4],X[:,5]);"
   ]
  },
  {
   "cell_type": "markdown",
   "metadata": {},
   "source": [
    "## <a id=\"sti\"></a>Structured Treatment Interruptions\n",
    "\n",
    "This environment implements the simulator defined in **[Dynamic Multidrug Therapies for HIV: Optimal and STI Control Approaches](https://www.aimspress.com/fileOther/PDF/MBE/1551-0018_2004_2_223.pdf)** by B. M. Adams et al. (2004). It was notably used in **[Clinical data based optimal STI strategies for HIV: a reinforcement learning approach](https://ieeexplore.ieee.org/document/4177178)** by D. Ernst et al. (2006).\n",
    "\n",
    "This environment simulates the immune system of an HIV-infected patient. It is not a gym environment and has no `render` method, but it still provides the `step` and `reset` methods. \n",
    "\n",
    "In short, HIV can infect two types of cells (type 1 and type 2 below) and replicate itself, which increases the virus load in the blood stream. The immune system fights off the virus by increasing the concentration of macrophages (effector cells below).\n",
    "\n",
    "The patient state variables are:\n",
    "- $T_1$ healthy type 1 cells concentration (cells per mL)\n",
    "- $T_1^*$ infected type 1 cells concentration (cells per mL)\n",
    "- $T_2$ healthy type 2 cells concentration (cells per mL)\n",
    "- $T_2^*$ infected type 2 cells concentration (cells per mL)\n",
    "- $V$ free virus (copies per mL)\n",
    "- $E$ immune effector cells concentration (cells per mL)\n",
    "\n",
    "Once infected, if no treatment is applied, the patient naturally evolve to one of two steady states: either the immune system controls the infection and the patient is healthy, or the infection dominates and the patient is unhealthy.\n",
    "\n",
    "By default `reset` deterministically puts the patient in the infected unhealthy state.\n",
    "\n",
    "    The transition() function allows to simulate continuous time dynamics and control.\n",
    "    The step() function is tailored for the evaluation of Structured Treatment Interruptions."
   ]
  },
  {
   "cell_type": "code",
   "execution_count": null,
   "metadata": {},
   "outputs": [],
   "source": [
    "from environments.hiv_patient import HIVPatient\n",
    "patient = HIVPatient()\n",
    "print(\"Uninfected patient:\", patient.reset(\"uninfected\"))\n",
    "print(\"Unhealthy patient:\", patient.reset()) # actually equivalent to patient.reset(\"unhealthy\")\n",
    "print(\"Healthy patient:\", patient.reset(mode=\"healthy\"))"
   ]
  },
  {
   "cell_type": "markdown",
   "metadata": {},
   "source": [
    "The `step` method simulates the evolution of the patient over a time step of $5$ days. The system is deterministic. For example, if we want to simulate a patient with a 25% immunity loss, with no treatment, over 400 days, we could do:"
   ]
  },
  {
   "cell_type": "code",
   "execution_count": null,
   "metadata": {},
   "outputs": [],
   "source": [
    "%matplotlib inline\n",
    "import matplotlib.pyplot as plt\n",
    "from environments.hiv_patient import HIVPatient\n",
    "\n",
    "patient = HIVPatient()\n",
    "s = patient.reset(mode=\"healthy\")\n",
    "s[5] *= .75\n",
    "patient.E *= .75\n",
    "print(patient.E)\n",
    "dur = 80 # 400/5\n",
    "#nb_steps = int(dur//1e-3)\n",
    "states = [s]\n",
    "for i in range(dur):\n",
    "    s, r, d, _ = patient.step(0)\n",
    "    states.append(s)\n",
    "    \n",
    "fig, axs = plt.subplots(2, 3, figsize=(15, 15))\n",
    "npst = np.array(states)\n",
    "axs[0,0].plot(npst[:,0])\n",
    "axs[0,0].set_title(\"T1\")\n",
    "axs[0,1].plot(npst[:,1])\n",
    "axs[0,1].set_title(\"T1*\")\n",
    "axs[0,2].plot(npst[:,2])\n",
    "axs[0,2].set_title(\"T2\")\n",
    "axs[1,0].plot(npst[:,3])\n",
    "axs[1,0].set_title(\"T2*\")\n",
    "axs[1,1].plot(npst[:,4])\n",
    "axs[1,1].set_title(\"V\")\n",
    "axs[1,2].plot(npst[:,5])\n",
    "axs[1,2].set_title(\"E\");"
   ]
  },
  {
   "cell_type": "markdown",
   "metadata": {},
   "source": [
    "Two types of drugs can be given to the patient, that differ in the way they affect the viral load. The problem we look at consists in giving or not a certain drug at every step, to allow for **structured treatment interruptions** (STI). Such interruptions have double goal: train the immune system to react by itself and provide the patient with a better quality of life.\n",
    "\n",
    "The action space is discrete and consists of 5 actions. What you pass to the `step` method is the action index.\n",
    "\n",
    "The patient's death over the course of treatment is not explicitly modelled (but the viral load can reach very high values). So this simulator does not have a termination condition (`step` never returns `done=True`). The reward model discourages giving drugs, aims at a low viral load and a high immunity:\n",
    "$$r(s,a,s') = -k_V \\cdot V + k_E \\cdot E -k_1 R_2 - k_2 \\cdot R_2$$\n",
    "where $R_1$ and $R_2$ are the amounts of prescribed drugs 1 and 2 respectively."
   ]
  },
  {
   "cell_type": "code",
   "execution_count": null,
   "metadata": {},
   "outputs": [],
   "source": [
    "print(patient.action_set)"
   ]
  },
  {
   "cell_type": "markdown",
   "metadata": {},
   "source": [
    "## <a id=\"turn\"></a>Your turn to play"
   ]
  },
  {
   "cell_type": "markdown",
   "metadata": {},
   "source": [
    "<div class=\"alert alert-warning\">\n",
    "    \n",
    "**Exercise (open-ended):**  \n",
    "Your turn to play!  \n",
    "Can you solve SwingUp? Bicycle? STI?  \n",
    "Why are these problems more difficult than CartPole?  \n",
    "Be creative!\n",
    "</div>"
   ]
  },
  {
   "cell_type": "code",
   "execution_count": null,
   "metadata": {},
   "outputs": [],
   "source": []
  }
 ],
 "metadata": {
  "kernelspec": {
   "display_name": "Python 3 (ipykernel)",
   "language": "python",
   "name": "python3"
  },
  "language_info": {
   "codemirror_mode": {
    "name": "ipython",
    "version": 3
   },
   "file_extension": ".py",
   "mimetype": "text/x-python",
   "name": "python",
   "nbconvert_exporter": "python",
   "pygments_lexer": "ipython3",
   "version": "3.7.11"
  },
  "toc": {
   "base_numbering": 1,
   "nav_menu": {},
   "number_sections": true,
   "sideBar": true,
   "skip_h1_title": false,
   "title_cell": "Table of Contents",
   "title_sidebar": "Contents",
   "toc_cell": false,
   "toc_position": {},
   "toc_section_display": true,
   "toc_window_display": true
  }
 },
 "nbformat": 4,
 "nbformat_minor": 4
}
